{
    "metadata": {
        "kernelspec": {
            "name": "SQL",
            "display_name": "SQL",
            "language": "sql"
        },
        "language_info": {
            "name": "sql",
            "version": ""
        }
    },
    "nbformat_minor": 2,
    "nbformat": 4,
    "cells": [
        {
            "cell_type": "markdown",
            "source": [
                "# Product Categories"
            ],
            "metadata": {
                "azdata_cell_guid": "d05d8589-5ad5-4c6f-b660-52b4a0859c2d"
            },
            "attachments": {}
        },
        {
            "cell_type": "markdown",
            "source": [
                "The `ProductCategory` table displays each of the product categories and subcategories. There aren't too many categories in this database, so we can make observations directly from these results."
            ],
            "metadata": {
                "azdata_cell_guid": "8da3e4e7-cb40-46fa-ad62-b2d57d83cce2"
            },
            "attachments": {}
        },
        {
            "cell_type": "code",
            "source": [
                "USE AdventureWorksLT2019\n",
                "SELECT *\n",
                "FROM SalesLT.ProductCategory;"
            ],
            "metadata": {
                "azdata_cell_guid": "4eab6e3b-f391-410e-a484-ff1519c2cf2a",
                "language": "sql",
                "tags": []
            },
            "outputs": [
                {
                    "output_type": "display_data",
                    "data": {
                        "text/html": "(41 rows affected)"
                    },
                    "metadata": {}
                },
                {
                    "output_type": "display_data",
                    "data": {
                        "text/html": "Total execution time: 00:00:00.023"
                    },
                    "metadata": {}
                },
                {
                    "output_type": "execute_result",
                    "execution_count": 1,
                    "data": {
                        "application/vnd.dataresource+json": {
                            "data": [
                                {
                                    "0": "1",
                                    "1": "NULL",
                                    "2": "Bikes",
                                    "3": "cfbda25c-df71-47a7-b81b-64ee161aa37c",
                                    "4": "2002-06-01 00:00:00.000"
                                },
                                {
                                    "0": "2",
                                    "1": "NULL",
                                    "2": "Components",
                                    "3": "c657828d-d808-4aba-91a3-af2ce02300e9",
                                    "4": "2002-06-01 00:00:00.000"
                                },
                                {
                                    "0": "3",
                                    "1": "NULL",
                                    "2": "Clothing",
                                    "3": "10a7c342-ca82-48d4-8a38-46a2eb089b74",
                                    "4": "2002-06-01 00:00:00.000"
                                },
                                {
                                    "0": "4",
                                    "1": "NULL",
                                    "2": "Accessories",
                                    "3": "2be3be36-d9a2-4eee-b593-ed895d97c2a6",
                                    "4": "2002-06-01 00:00:00.000"
                                },
                                {
                                    "0": "5",
                                    "1": "1",
                                    "2": "Mountain Bikes",
                                    "3": "2d364ade-264a-433c-b092-4fcbf3804e01",
                                    "4": "2002-06-01 00:00:00.000"
                                },
                                {
                                    "0": "6",
                                    "1": "1",
                                    "2": "Road Bikes",
                                    "3": "000310c0-bcc8-42c4-b0c3-45ae611af06b",
                                    "4": "2002-06-01 00:00:00.000"
                                },
                                {
                                    "0": "7",
                                    "1": "1",
                                    "2": "Touring Bikes",
                                    "3": "02c5061d-ecdc-4274-b5f1-e91d76bc3f37",
                                    "4": "2002-06-01 00:00:00.000"
                                },
                                {
                                    "0": "8",
                                    "1": "2",
                                    "2": "Handlebars",
                                    "3": "3ef2c725-7135-4c85-9ae6-ae9a3bdd9283",
                                    "4": "2002-06-01 00:00:00.000"
                                },
                                {
                                    "0": "9",
                                    "1": "2",
                                    "2": "Bottom Brackets",
                                    "3": "a9e54089-8a1e-4cf5-8646-e3801f685934",
                                    "4": "2002-06-01 00:00:00.000"
                                },
                                {
                                    "0": "10",
                                    "1": "2",
                                    "2": "Brakes",
                                    "3": "d43ba4a3-ef0d-426b-90eb-4be4547dd30c",
                                    "4": "2002-06-01 00:00:00.000"
                                },
                                {
                                    "0": "11",
                                    "1": "2",
                                    "2": "Chains",
                                    "3": "e93a7231-f16c-4b0f-8c41-c73fdec62da0",
                                    "4": "2002-06-01 00:00:00.000"
                                },
                                {
                                    "0": "12",
                                    "1": "2",
                                    "2": "Cranksets",
                                    "3": "4f644521-422b-4f19-974a-e3df6102567e",
                                    "4": "2002-06-01 00:00:00.000"
                                },
                                {
                                    "0": "13",
                                    "1": "2",
                                    "2": "Derailleurs",
                                    "3": "1830d70c-aa2a-40c0-a271-5ba86f38f8bf",
                                    "4": "2002-06-01 00:00:00.000"
                                },
                                {
                                    "0": "14",
                                    "1": "2",
                                    "2": "Forks",
                                    "3": "b5f9ba42-b69b-4fdd-b2ec-57fb7b42e3cf",
                                    "4": "2002-06-01 00:00:00.000"
                                },
                                {
                                    "0": "15",
                                    "1": "2",
                                    "2": "Headsets",
                                    "3": "7c782bbe-5a16-495a-aa50-10afe5a84af2",
                                    "4": "2002-06-01 00:00:00.000"
                                },
                                {
                                    "0": "16",
                                    "1": "2",
                                    "2": "Mountain Frames",
                                    "3": "61b21b65-e16a-4be7-9300-4d8e9db861be",
                                    "4": "2002-06-01 00:00:00.000"
                                },
                                {
                                    "0": "17",
                                    "1": "2",
                                    "2": "Pedals",
                                    "3": "6d24ac07-7a84-4849-864a-865a14125bc9",
                                    "4": "2002-06-01 00:00:00.000"
                                },
                                {
                                    "0": "18",
                                    "1": "2",
                                    "2": "Road Frames",
                                    "3": "5515f857-075b-4f9a-87b7-43b4997077b3",
                                    "4": "2002-06-01 00:00:00.000"
                                },
                                {
                                    "0": "19",
                                    "1": "2",
                                    "2": "Saddles",
                                    "3": "049fffa3-9d30-46df-82f7-f20730ec02b3",
                                    "4": "2002-06-01 00:00:00.000"
                                },
                                {
                                    "0": "20",
                                    "1": "2",
                                    "2": "Touring Frames",
                                    "3": "d2e3f1a8-56c4-4f36-b29d-5659fc0d2789",
                                    "4": "2002-06-01 00:00:00.000"
                                },
                                {
                                    "0": "21",
                                    "1": "2",
                                    "2": "Wheels",
                                    "3": "43521287-4b0b-438e-b80e-d82d9ad7c9f0",
                                    "4": "2002-06-01 00:00:00.000"
                                },
                                {
                                    "0": "22",
                                    "1": "3",
                                    "2": "Bib-Shorts",
                                    "3": "67b58d2b-5798-4a90-8c6c-5ddacf057171",
                                    "4": "2002-06-01 00:00:00.000"
                                },
                                {
                                    "0": "23",
                                    "1": "3",
                                    "2": "Caps",
                                    "3": "430dd6a8-a755-4b23-bb05-52520107da5f",
                                    "4": "2002-06-01 00:00:00.000"
                                },
                                {
                                    "0": "24",
                                    "1": "3",
                                    "2": "Gloves",
                                    "3": "92d5657b-0032-4e49-bad5-41a441a70942",
                                    "4": "2002-06-01 00:00:00.000"
                                },
                                {
                                    "0": "25",
                                    "1": "3",
                                    "2": "Jerseys",
                                    "3": "09e91437-ba4f-4b1a-8215-74184fd95db8",
                                    "4": "2002-06-01 00:00:00.000"
                                },
                                {
                                    "0": "26",
                                    "1": "3",
                                    "2": "Shorts",
                                    "3": "1a5ba5b3-03c3-457c-b11e-4fa85ede87da",
                                    "4": "2002-06-01 00:00:00.000"
                                },
                                {
                                    "0": "27",
                                    "1": "3",
                                    "2": "Socks",
                                    "3": "701019c3-09fe-4949-8386-c6ce686474e5",
                                    "4": "2002-06-01 00:00:00.000"
                                },
                                {
                                    "0": "28",
                                    "1": "3",
                                    "2": "Tights",
                                    "3": "5deb3e55-9897-4416-b18a-515e970bc2d1",
                                    "4": "2002-06-01 00:00:00.000"
                                },
                                {
                                    "0": "29",
                                    "1": "3",
                                    "2": "Vests",
                                    "3": "9ad7fe93-5ba0-4736-b578-ff80a2071297",
                                    "4": "2002-06-01 00:00:00.000"
                                },
                                {
                                    "0": "30",
                                    "1": "4",
                                    "2": "Bike Racks",
                                    "3": "4624b5ce-66d6-496b-9201-c053df3556cc",
                                    "4": "2002-06-01 00:00:00.000"
                                },
                                {
                                    "0": "31",
                                    "1": "4",
                                    "2": "Bike Stands",
                                    "3": "43b445c8-b820-424e-a1d5-90d81da0b46f",
                                    "4": "2002-06-01 00:00:00.000"
                                },
                                {
                                    "0": "32",
                                    "1": "4",
                                    "2": "Bottles and Cages",
                                    "3": "9b7dff41-9fa3-4776-8def-2c9a48c8b779",
                                    "4": "2002-06-01 00:00:00.000"
                                },
                                {
                                    "0": "33",
                                    "1": "4",
                                    "2": "Cleaners",
                                    "3": "9ad3bcf0-244d-4ec4-a6a0-fb701351c6a3",
                                    "4": "2002-06-01 00:00:00.000"
                                },
                                {
                                    "0": "34",
                                    "1": "4",
                                    "2": "Fenders",
                                    "3": "1697f8a2-0a08-4883-b7dd-d19117b4e9a7",
                                    "4": "2002-06-01 00:00:00.000"
                                },
                                {
                                    "0": "35",
                                    "1": "4",
                                    "2": "Helmets",
                                    "3": "f5e07a33-c9e0-439c-b5f3-9f25fb65becc",
                                    "4": "2002-06-01 00:00:00.000"
                                },
                                {
                                    "0": "36",
                                    "1": "4",
                                    "2": "Hydration Packs",
                                    "3": "646a8906-fc87-4267-a443-9c6d791e6693",
                                    "4": "2002-06-01 00:00:00.000"
                                },
                                {
                                    "0": "37",
                                    "1": "4",
                                    "2": "Lights",
                                    "3": "954178ba-624f-42db-95f6-ca035f36d130",
                                    "4": "2002-06-01 00:00:00.000"
                                },
                                {
                                    "0": "38",
                                    "1": "4",
                                    "2": "Locks",
                                    "3": "19646983-3fa0-4773-9a0c-f34c49df9bc8",
                                    "4": "2002-06-01 00:00:00.000"
                                },
                                {
                                    "0": "39",
                                    "1": "4",
                                    "2": "Panniers",
                                    "3": "3002a5d5-fec3-464b-bef3-e0f81d35f431",
                                    "4": "2002-06-01 00:00:00.000"
                                },
                                {
                                    "0": "40",
                                    "1": "4",
                                    "2": "Pumps",
                                    "3": "fe4d46f2-c87c-48c5-a4a1-3f55712d80b1",
                                    "4": "2002-06-01 00:00:00.000"
                                },
                                {
                                    "0": "41",
                                    "1": "4",
                                    "2": "Tires and Tubes",
                                    "3": "3c17c9ae-e906-48b4-bdd3-60e28d47dcdf",
                                    "4": "2002-06-01 00:00:00.000"
                                }
                            ],
                            "schema": {
                                "fields": [
                                    {
                                        "name": "ProductCategoryID"
                                    },
                                    {
                                        "name": "ParentProductCategoryID"
                                    },
                                    {
                                        "name": "Name"
                                    },
                                    {
                                        "name": "rowguid"
                                    },
                                    {
                                        "name": "ModifiedDate"
                                    }
                                ]
                            }
                        },
                        "text/html": "<table>\n<tr><th>ProductCategoryID</th><th>ParentProductCategoryID</th><th>Name</th><th>rowguid</th><th>ModifiedDate</th></tr>\n<tr><td>1</td><td>NULL</td><td>Bikes</td><td>cfbda25c-df71-47a7-b81b-64ee161aa37c</td><td>2002-06-01 00:00:00.000</td></tr>\n<tr><td>2</td><td>NULL</td><td>Components</td><td>c657828d-d808-4aba-91a3-af2ce02300e9</td><td>2002-06-01 00:00:00.000</td></tr>\n<tr><td>3</td><td>NULL</td><td>Clothing</td><td>10a7c342-ca82-48d4-8a38-46a2eb089b74</td><td>2002-06-01 00:00:00.000</td></tr>\n<tr><td>4</td><td>NULL</td><td>Accessories</td><td>2be3be36-d9a2-4eee-b593-ed895d97c2a6</td><td>2002-06-01 00:00:00.000</td></tr>\n<tr><td>5</td><td>1</td><td>Mountain Bikes</td><td>2d364ade-264a-433c-b092-4fcbf3804e01</td><td>2002-06-01 00:00:00.000</td></tr>\n<tr><td>6</td><td>1</td><td>Road Bikes</td><td>000310c0-bcc8-42c4-b0c3-45ae611af06b</td><td>2002-06-01 00:00:00.000</td></tr>\n<tr><td>7</td><td>1</td><td>Touring Bikes</td><td>02c5061d-ecdc-4274-b5f1-e91d76bc3f37</td><td>2002-06-01 00:00:00.000</td></tr>\n<tr><td>8</td><td>2</td><td>Handlebars</td><td>3ef2c725-7135-4c85-9ae6-ae9a3bdd9283</td><td>2002-06-01 00:00:00.000</td></tr>\n<tr><td>9</td><td>2</td><td>Bottom Brackets</td><td>a9e54089-8a1e-4cf5-8646-e3801f685934</td><td>2002-06-01 00:00:00.000</td></tr>\n<tr><td>10</td><td>2</td><td>Brakes</td><td>d43ba4a3-ef0d-426b-90eb-4be4547dd30c</td><td>2002-06-01 00:00:00.000</td></tr>\n<tr><td>11</td><td>2</td><td>Chains</td><td>e93a7231-f16c-4b0f-8c41-c73fdec62da0</td><td>2002-06-01 00:00:00.000</td></tr>\n<tr><td>12</td><td>2</td><td>Cranksets</td><td>4f644521-422b-4f19-974a-e3df6102567e</td><td>2002-06-01 00:00:00.000</td></tr>\n<tr><td>13</td><td>2</td><td>Derailleurs</td><td>1830d70c-aa2a-40c0-a271-5ba86f38f8bf</td><td>2002-06-01 00:00:00.000</td></tr>\n<tr><td>14</td><td>2</td><td>Forks</td><td>b5f9ba42-b69b-4fdd-b2ec-57fb7b42e3cf</td><td>2002-06-01 00:00:00.000</td></tr>\n<tr><td>15</td><td>2</td><td>Headsets</td><td>7c782bbe-5a16-495a-aa50-10afe5a84af2</td><td>2002-06-01 00:00:00.000</td></tr>\n<tr><td>16</td><td>2</td><td>Mountain Frames</td><td>61b21b65-e16a-4be7-9300-4d8e9db861be</td><td>2002-06-01 00:00:00.000</td></tr>\n<tr><td>17</td><td>2</td><td>Pedals</td><td>6d24ac07-7a84-4849-864a-865a14125bc9</td><td>2002-06-01 00:00:00.000</td></tr>\n<tr><td>18</td><td>2</td><td>Road Frames</td><td>5515f857-075b-4f9a-87b7-43b4997077b3</td><td>2002-06-01 00:00:00.000</td></tr>\n<tr><td>19</td><td>2</td><td>Saddles</td><td>049fffa3-9d30-46df-82f7-f20730ec02b3</td><td>2002-06-01 00:00:00.000</td></tr>\n<tr><td>20</td><td>2</td><td>Touring Frames</td><td>d2e3f1a8-56c4-4f36-b29d-5659fc0d2789</td><td>2002-06-01 00:00:00.000</td></tr>\n<tr><td>21</td><td>2</td><td>Wheels</td><td>43521287-4b0b-438e-b80e-d82d9ad7c9f0</td><td>2002-06-01 00:00:00.000</td></tr>\n<tr><td>22</td><td>3</td><td>Bib-Shorts</td><td>67b58d2b-5798-4a90-8c6c-5ddacf057171</td><td>2002-06-01 00:00:00.000</td></tr>\n<tr><td>23</td><td>3</td><td>Caps</td><td>430dd6a8-a755-4b23-bb05-52520107da5f</td><td>2002-06-01 00:00:00.000</td></tr>\n<tr><td>24</td><td>3</td><td>Gloves</td><td>92d5657b-0032-4e49-bad5-41a441a70942</td><td>2002-06-01 00:00:00.000</td></tr>\n<tr><td>25</td><td>3</td><td>Jerseys</td><td>09e91437-ba4f-4b1a-8215-74184fd95db8</td><td>2002-06-01 00:00:00.000</td></tr>\n<tr><td>26</td><td>3</td><td>Shorts</td><td>1a5ba5b3-03c3-457c-b11e-4fa85ede87da</td><td>2002-06-01 00:00:00.000</td></tr>\n<tr><td>27</td><td>3</td><td>Socks</td><td>701019c3-09fe-4949-8386-c6ce686474e5</td><td>2002-06-01 00:00:00.000</td></tr>\n<tr><td>28</td><td>3</td><td>Tights</td><td>5deb3e55-9897-4416-b18a-515e970bc2d1</td><td>2002-06-01 00:00:00.000</td></tr>\n<tr><td>29</td><td>3</td><td>Vests</td><td>9ad7fe93-5ba0-4736-b578-ff80a2071297</td><td>2002-06-01 00:00:00.000</td></tr>\n<tr><td>30</td><td>4</td><td>Bike Racks</td><td>4624b5ce-66d6-496b-9201-c053df3556cc</td><td>2002-06-01 00:00:00.000</td></tr>\n<tr><td>31</td><td>4</td><td>Bike Stands</td><td>43b445c8-b820-424e-a1d5-90d81da0b46f</td><td>2002-06-01 00:00:00.000</td></tr>\n<tr><td>32</td><td>4</td><td>Bottles and Cages</td><td>9b7dff41-9fa3-4776-8def-2c9a48c8b779</td><td>2002-06-01 00:00:00.000</td></tr>\n<tr><td>33</td><td>4</td><td>Cleaners</td><td>9ad3bcf0-244d-4ec4-a6a0-fb701351c6a3</td><td>2002-06-01 00:00:00.000</td></tr>\n<tr><td>34</td><td>4</td><td>Fenders</td><td>1697f8a2-0a08-4883-b7dd-d19117b4e9a7</td><td>2002-06-01 00:00:00.000</td></tr>\n<tr><td>35</td><td>4</td><td>Helmets</td><td>f5e07a33-c9e0-439c-b5f3-9f25fb65becc</td><td>2002-06-01 00:00:00.000</td></tr>\n<tr><td>36</td><td>4</td><td>Hydration Packs</td><td>646a8906-fc87-4267-a443-9c6d791e6693</td><td>2002-06-01 00:00:00.000</td></tr>\n<tr><td>37</td><td>4</td><td>Lights</td><td>954178ba-624f-42db-95f6-ca035f36d130</td><td>2002-06-01 00:00:00.000</td></tr>\n<tr><td>38</td><td>4</td><td>Locks</td><td>19646983-3fa0-4773-9a0c-f34c49df9bc8</td><td>2002-06-01 00:00:00.000</td></tr>\n<tr><td>39</td><td>4</td><td>Panniers</td><td>3002a5d5-fec3-464b-bef3-e0f81d35f431</td><td>2002-06-01 00:00:00.000</td></tr>\n<tr><td>40</td><td>4</td><td>Pumps</td><td>fe4d46f2-c87c-48c5-a4a1-3f55712d80b1</td><td>2002-06-01 00:00:00.000</td></tr>\n<tr><td>41</td><td>4</td><td>Tires and Tubes</td><td>3c17c9ae-e906-48b4-bdd3-60e28d47dcdf</td><td>2002-06-01 00:00:00.000</td></tr>\n</table>"
                    },
                    "metadata": {}
                }
            ],
            "execution_count": 1
        },
        {
            "cell_type": "markdown",
            "source": [
                "Observe there are three types of bikes, and each bike is assigned the following `ProductCategoryID`:\n",
                "\n",
                "- Mountain Bikes: `5`\n",
                "- Road Bikes: `6`\n",
                "- Touring Bikes: `7`\n",
                "\n",
                "These bike types all have different uses, so as we continue to analyze this data, we'll want to select the best options from each category to use on various expeditions."
            ],
            "metadata": {
                "azdata_cell_guid": "f54bc383-733a-4bf9-bfb9-6b5a3067ccdd"
            },
            "attachments": {}
        }
    ]
}