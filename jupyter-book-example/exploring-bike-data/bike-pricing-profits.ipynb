{
    "metadata": {
        "kernelspec": {
            "name": "SQL",
            "display_name": "SQL",
            "language": "sql"
        },
        "language_info": {
            "name": "sql",
            "version": ""
        }
    },
    "nbformat_minor": 2,
    "nbformat": 4,
    "cells": [
        {
            "cell_type": "markdown",
            "source": [
                "# Bike Pricing and Profits"
            ],
            "metadata": {
                "azdata_cell_guid": "d05d8589-5ad5-4c6f-b660-52b4a0859c2d"
            },
            "attachments": {}
        },
        {
            "cell_type": "markdown",
            "source": [
                "## Minimum and Maximum Prices\n",
                "\n",
                "> **Note**: Remember, Mountain Bikes = `5`, Road Bikes = `6`, and Touring Bikes = `7`.\n",
                "\n",
                "Let's review the minimum and maximum current `ListPrice` for each bike option."
            ],
            "metadata": {
                "azdata_cell_guid": "a1aca350-5ca5-4fce-8167-122a28937c97"
            },
            "attachments": {}
        },
        {
            "cell_type": "code",
            "source": [
                "USE AdventureWorksLT2019\n",
                "SELECT ProductCategoryID,\n",
                "       MIN(ListPrice) AS MinPrice,\n",
                "       Max(ListPrice) AS MaxPrice,\n",
                "       MAX(ListPrice) - MIN(ListPrice) AS ListPriceRange\n",
                "FROM SalesLT.Product\n",
                "WHERE ProductCategoryID IN ( 5, 6, 7 )\n",
                "GROUP BY ProductCategoryID;"
            ],
            "metadata": {
                "azdata_cell_guid": "4eab6e3b-f391-410e-a484-ff1519c2cf2a",
                "language": "sql"
            },
            "outputs": [
                {
                    "output_type": "display_data",
                    "data": {
                        "text/html": "(3 rows affected)"
                    },
                    "metadata": {}
                },
                {
                    "output_type": "display_data",
                    "data": {
                        "text/html": "Total execution time: 00:00:00.029"
                    },
                    "metadata": {}
                },
                {
                    "output_type": "execute_result",
                    "execution_count": 1,
                    "data": {
                        "application/vnd.dataresource+json": {
                            "schema": {
                                "fields": [
                                    {
                                        "name": "ProductCategoryID"
                                    },
                                    {
                                        "name": "MinPrice"
                                    },
                                    {
                                        "name": "MaxPrice"
                                    },
                                    {
                                        "name": "ListPriceRange"
                                    }
                                ]
                            },
                            "data": [
                                {
                                    "0": "5",
                                    "1": "539.99",
                                    "2": "3399.99",
                                    "3": "2860.00"
                                },
                                {
                                    "0": "6",
                                    "1": "539.99",
                                    "2": "3578.27",
                                    "3": "3038.28"
                                },
                                {
                                    "0": "7",
                                    "1": "742.35",
                                    "2": "2384.07",
                                    "3": "1641.72"
                                }
                            ]
                        },
                        "text/html": "<table><tr><th>ProductCategoryID</th><th>MinPrice</th><th>MaxPrice</th><th>ListPriceRange</th></tr><tr><td>5</td><td>539.99</td><td>3399.99</td><td>2860.00</td></tr><tr><td>6</td><td>539.99</td><td>3578.27</td><td>3038.28</td></tr><tr><td>7</td><td>742.35</td><td>2384.07</td><td>1641.72</td></tr></table>"
                    },
                    "metadata": {}
                }
            ],
            "execution_count": 1
        },
        {
            "cell_type": "markdown",
            "source": [
                "Road bikes (`6`) have the greatest variation in `ListPrice`."
            ],
            "metadata": {
                "language": "sql",
                "azdata_cell_guid": "e571fa46-6ea7-4669-b00f-fd53a34b2561"
            },
            "attachments": {}
        },
        {
            "cell_type": "markdown",
            "source": [
                "## Potential Profits\n",
                "\n",
                "Review the potential profits you can make. Use the `ListPrice` from the `Product` table to consider the highest potential profit."
            ],
            "metadata": {
                "language": "sql",
                "azdata_cell_guid": "8259be96-bf1f-449a-9c9e-3023b980b869"
            },
            "attachments": {}
        },
        {
            "cell_type": "code",
            "source": [
                "USE AdventureWorksLT2019\n",
                "SELECT Name,\n",
                "       ListPrice,\n",
                "       StandardCost,\n",
                "       (ListPrice - StandardCost) AS PotentialProfit\n",
                "FROM SalesLT.Product\n",
                "WHERE ProductCategoryID IN ( 5, 6, 7 )\n",
                "ORDER BY PotentialProfit DESC;"
            ],
            "metadata": {
                "language": "sql",
                "azdata_cell_guid": "86891dc5-2e64-491e-b21a-a4297ea1770f"
            },
            "outputs": [
                {
                    "output_type": "display_data",
                    "data": {
                        "text/html": "(97 rows affected)"
                    },
                    "metadata": {}
                },
                {
                    "output_type": "display_data",
                    "data": {
                        "text/html": "Total execution time: 00:00:00.048"
                    },
                    "metadata": {}
                },
                {
                    "output_type": "execute_result",
                    "execution_count": 2,
                    "data": {
                        "application/vnd.dataresource+json": {
                            "schema": {
                                "fields": [
                                    {
                                        "name": "Name"
                                    },
                                    {
                                        "name": "ListPrice"
                                    },
                                    {
                                        "name": "StandardCost"
                                    },
                                    {
                                        "name": "PotentialProfit"
                                    }
                                ]
                            },
                            "data": [
                                {
                                    "0": "Mountain-100 Silver, 38",
                                    "1": "3399.99",
                                    "2": "1912.1544",
                                    "3": "1487.8356"
                                },
                                {
                                    "0": "Mountain-100 Silver, 42",
                                    "1": "3399.99",
                                    "2": "1912.1544",
                                    "3": "1487.8356"
                                },
                                {
                                    "0": "Mountain-100 Silver, 44",
                                    "1": "3399.99",
                                    "2": "1912.1544",
                                    "3": "1487.8356"
                                },
                                {
                                    "0": "Mountain-100 Silver, 48",
                                    "1": "3399.99",
                                    "2": "1912.1544",
                                    "3": "1487.8356"
                                },
                                {
                                    "0": "Mountain-100 Black, 38",
                                    "1": "3374.99",
                                    "2": "1898.0944",
                                    "3": "1476.8956"
                                },
                                {
                                    "0": "Mountain-100 Black, 42",
                                    "1": "3374.99",
                                    "2": "1898.0944",
                                    "3": "1476.8956"
                                },
                                {
                                    "0": "Mountain-100 Black, 44",
                                    "1": "3374.99",
                                    "2": "1898.0944",
                                    "3": "1476.8956"
                                },
                                {
                                    "0": "Mountain-100 Black, 48",
                                    "1": "3374.99",
                                    "2": "1898.0944",
                                    "3": "1476.8956"
                                },
                                {
                                    "0": "Road-150 Red, 62",
                                    "1": "3578.27",
                                    "2": "2171.2942",
                                    "3": "1406.9758"
                                },
                                {
                                    "0": "Road-150 Red, 44",
                                    "1": "3578.27",
                                    "2": "2171.2942",
                                    "3": "1406.9758"
                                },
                                {
                                    "0": "Road-150 Red, 48",
                                    "1": "3578.27",
                                    "2": "2171.2942",
                                    "3": "1406.9758"
                                },
                                {
                                    "0": "Road-150 Red, 52",
                                    "1": "3578.27",
                                    "2": "2171.2942",
                                    "3": "1406.9758"
                                },
                                {
                                    "0": "Road-150 Red, 56",
                                    "1": "3578.27",
                                    "2": "2171.2942",
                                    "3": "1406.9758"
                                },
                                {
                                    "0": "Mountain-200 Silver, 38",
                                    "1": "2319.99",
                                    "2": "1265.6195",
                                    "3": "1054.3705"
                                },
                                {
                                    "0": "Mountain-200 Silver, 42",
                                    "1": "2319.99",
                                    "2": "1265.6195",
                                    "3": "1054.3705"
                                },
                                {
                                    "0": "Mountain-200 Silver, 46",
                                    "1": "2319.99",
                                    "2": "1265.6195",
                                    "3": "1054.3705"
                                },
                                {
                                    "0": "Mountain-200 Black, 38",
                                    "1": "2294.99",
                                    "2": "1251.9813",
                                    "3": "1043.0087"
                                },
                                {
                                    "0": "Mountain-200 Black, 42",
                                    "1": "2294.99",
                                    "2": "1251.9813",
                                    "3": "1043.0087"
                                },
                                {
                                    "0": "Mountain-200 Black, 46",
                                    "1": "2294.99",
                                    "2": "1251.9813",
                                    "3": "1043.0087"
                                },
                                {
                                    "0": "Road-250 Red, 44",
                                    "1": "2443.35",
                                    "2": "1518.7864",
                                    "3": "924.5636"
                                },
                                {
                                    "0": "Road-250 Red, 48",
                                    "1": "2443.35",
                                    "2": "1518.7864",
                                    "3": "924.5636"
                                },
                                {
                                    "0": "Road-250 Red, 52",
                                    "1": "2443.35",
                                    "2": "1518.7864",
                                    "3": "924.5636"
                                },
                                {
                                    "0": "Touring-1000 Yellow, 46",
                                    "1": "2384.07",
                                    "2": "1481.9379",
                                    "3": "902.1321"
                                },
                                {
                                    "0": "Touring-1000 Yellow, 50",
                                    "1": "2384.07",
                                    "2": "1481.9379",
                                    "3": "902.1321"
                                },
                                {
                                    "0": "Touring-1000 Yellow, 54",
                                    "1": "2384.07",
                                    "2": "1481.9379",
                                    "3": "902.1321"
                                },
                                {
                                    "0": "Touring-1000 Yellow, 60",
                                    "1": "2384.07",
                                    "2": "1481.9379",
                                    "3": "902.1321"
                                },
                                {
                                    "0": "Touring-1000 Blue, 46",
                                    "1": "2384.07",
                                    "2": "1481.9379",
                                    "3": "902.1321"
                                },
                                {
                                    "0": "Touring-1000 Blue, 50",
                                    "1": "2384.07",
                                    "2": "1481.9379",
                                    "3": "902.1321"
                                },
                                {
                                    "0": "Touring-1000 Blue, 54",
                                    "1": "2384.07",
                                    "2": "1481.9379",
                                    "3": "902.1321"
                                },
                                {
                                    "0": "Touring-1000 Blue, 60",
                                    "1": "2384.07",
                                    "2": "1481.9379",
                                    "3": "902.1321"
                                },
                                {
                                    "0": "Road-250 Red, 58",
                                    "1": "2443.35",
                                    "2": "1554.9479",
                                    "3": "888.4021"
                                },
                                {
                                    "0": "Road-250 Black, 44",
                                    "1": "2443.35",
                                    "2": "1554.9479",
                                    "3": "888.4021"
                                },
                                {
                                    "0": "Road-250 Black, 48",
                                    "1": "2443.35",
                                    "2": "1554.9479",
                                    "3": "888.4021"
                                },
                                {
                                    "0": "Road-250 Black, 52",
                                    "1": "2443.35",
                                    "2": "1554.9479",
                                    "3": "888.4021"
                                },
                                {
                                    "0": "Road-250 Black, 58",
                                    "1": "2443.35",
                                    "2": "1554.9479",
                                    "3": "888.4021"
                                },
                                {
                                    "0": "Road-350-W Yellow, 40",
                                    "1": "1700.99",
                                    "2": "1082.51",
                                    "3": "618.48"
                                },
                                {
                                    "0": "Road-350-W Yellow, 42",
                                    "1": "1700.99",
                                    "2": "1082.51",
                                    "3": "618.48"
                                },
                                {
                                    "0": "Road-350-W Yellow, 44",
                                    "1": "1700.99",
                                    "2": "1082.51",
                                    "3": "618.48"
                                },
                                {
                                    "0": "Road-350-W Yellow, 48",
                                    "1": "1700.99",
                                    "2": "1082.51",
                                    "3": "618.48"
                                },
                                {
                                    "0": "Road-450 Red, 58",
                                    "1": "1457.99",
                                    "2": "884.7083",
                                    "3": "573.2817"
                                },
                                {
                                    "0": "Road-450 Red, 60",
                                    "1": "1457.99",
                                    "2": "884.7083",
                                    "3": "573.2817"
                                },
                                {
                                    "0": "Road-450 Red, 44",
                                    "1": "1457.99",
                                    "2": "884.7083",
                                    "3": "573.2817"
                                },
                                {
                                    "0": "Road-450 Red, 48",
                                    "1": "1457.99",
                                    "2": "884.7083",
                                    "3": "573.2817"
                                },
                                {
                                    "0": "Road-450 Red, 52",
                                    "1": "1457.99",
                                    "2": "884.7083",
                                    "3": "573.2817"
                                },
                                {
                                    "0": "Mountain-300 Black, 38",
                                    "1": "1079.99",
                                    "2": "598.4354",
                                    "3": "481.5546"
                                },
                                {
                                    "0": "Mountain-300 Black, 40",
                                    "1": "1079.99",
                                    "2": "598.4354",
                                    "3": "481.5546"
                                },
                                {
                                    "0": "Mountain-300 Black, 44",
                                    "1": "1079.99",
                                    "2": "598.4354",
                                    "3": "481.5546"
                                },
                                {
                                    "0": "Mountain-300 Black, 48",
                                    "1": "1079.99",
                                    "2": "598.4354",
                                    "3": "481.5546"
                                },
                                {
                                    "0": "Touring-2000 Blue, 46",
                                    "1": "1214.85",
                                    "2": "755.1508",
                                    "3": "459.6992"
                                },
                                {
                                    "0": "Touring-2000 Blue, 50",
                                    "1": "1214.85",
                                    "2": "755.1508",
                                    "3": "459.6992"
                                },
                                {
                                    "0": "Touring-2000 Blue, 54",
                                    "1": "1214.85",
                                    "2": "755.1508",
                                    "3": "459.6992"
                                },
                                {
                                    "0": "Touring-2000 Blue, 60",
                                    "1": "1214.85",
                                    "2": "755.1508",
                                    "3": "459.6992"
                                },
                                {
                                    "0": "Road-550-W Yellow, 38",
                                    "1": "1120.49",
                                    "2": "713.0798",
                                    "3": "407.4102"
                                },
                                {
                                    "0": "Road-550-W Yellow, 40",
                                    "1": "1120.49",
                                    "2": "713.0798",
                                    "3": "407.4102"
                                },
                                {
                                    "0": "Road-550-W Yellow, 42",
                                    "1": "1120.49",
                                    "2": "713.0798",
                                    "3": "407.4102"
                                },
                                {
                                    "0": "Road-550-W Yellow, 44",
                                    "1": "1120.49",
                                    "2": "713.0798",
                                    "3": "407.4102"
                                },
                                {
                                    "0": "Road-550-W Yellow, 48",
                                    "1": "1120.49",
                                    "2": "713.0798",
                                    "3": "407.4102"
                                },
                                {
                                    "0": "Mountain-400-W Silver, 38",
                                    "1": "769.49",
                                    "2": "419.7784",
                                    "3": "349.7116"
                                },
                                {
                                    "0": "Mountain-400-W Silver, 40",
                                    "1": "769.49",
                                    "2": "419.7784",
                                    "3": "349.7116"
                                },
                                {
                                    "0": "Mountain-400-W Silver, 42",
                                    "1": "769.49",
                                    "2": "419.7784",
                                    "3": "349.7116"
                                },
                                {
                                    "0": "Mountain-400-W Silver, 46",
                                    "1": "769.49",
                                    "2": "419.7784",
                                    "3": "349.7116"
                                },
                                {
                                    "0": "Road-650 Red, 58",
                                    "1": "782.99",
                                    "2": "486.7066",
                                    "3": "296.2834"
                                },
                                {
                                    "0": "Road-650 Red, 60",
                                    "1": "782.99",
                                    "2": "486.7066",
                                    "3": "296.2834"
                                },
                                {
                                    "0": "Road-650 Red, 62",
                                    "1": "782.99",
                                    "2": "486.7066",
                                    "3": "296.2834"
                                },
                                {
                                    "0": "Road-650 Red, 44",
                                    "1": "782.99",
                                    "2": "486.7066",
                                    "3": "296.2834"
                                },
                                {
                                    "0": "Road-650 Red, 48",
                                    "1": "782.99",
                                    "2": "486.7066",
                                    "3": "296.2834"
                                },
                                {
                                    "0": "Road-650 Red, 52",
                                    "1": "782.99",
                                    "2": "486.7066",
                                    "3": "296.2834"
                                },
                                {
                                    "0": "Road-650 Black, 58",
                                    "1": "782.99",
                                    "2": "486.7066",
                                    "3": "296.2834"
                                },
                                {
                                    "0": "Road-650 Black, 60",
                                    "1": "782.99",
                                    "2": "486.7066",
                                    "3": "296.2834"
                                },
                                {
                                    "0": "Road-650 Black, 62",
                                    "1": "782.99",
                                    "2": "486.7066",
                                    "3": "296.2834"
                                },
                                {
                                    "0": "Road-650 Black, 44",
                                    "1": "782.99",
                                    "2": "486.7066",
                                    "3": "296.2834"
                                },
                                {
                                    "0": "Road-650 Black, 48",
                                    "1": "782.99",
                                    "2": "486.7066",
                                    "3": "296.2834"
                                },
                                {
                                    "0": "Road-650 Black, 52",
                                    "1": "782.99",
                                    "2": "486.7066",
                                    "3": "296.2834"
                                },
                                {
                                    "0": "Touring-3000 Blue, 54",
                                    "1": "742.35",
                                    "2": "461.4448",
                                    "3": "280.9052"
                                },
                                {
                                    "0": "Touring-3000 Blue, 58",
                                    "1": "742.35",
                                    "2": "461.4448",
                                    "3": "280.9052"
                                },
                                {
                                    "0": "Touring-3000 Blue, 62",
                                    "1": "742.35",
                                    "2": "461.4448",
                                    "3": "280.9052"
                                },
                                {
                                    "0": "Touring-3000 Yellow, 44",
                                    "1": "742.35",
                                    "2": "461.4448",
                                    "3": "280.9052"
                                },
                                {
                                    "0": "Touring-3000 Yellow, 50",
                                    "1": "742.35",
                                    "2": "461.4448",
                                    "3": "280.9052"
                                },
                                {
                                    "0": "Touring-3000 Yellow, 54",
                                    "1": "742.35",
                                    "2": "461.4448",
                                    "3": "280.9052"
                                },
                                {
                                    "0": "Touring-3000 Yellow, 58",
                                    "1": "742.35",
                                    "2": "461.4448",
                                    "3": "280.9052"
                                },
                                {
                                    "0": "Touring-3000 Yellow, 62",
                                    "1": "742.35",
                                    "2": "461.4448",
                                    "3": "280.9052"
                                },
                                {
                                    "0": "Touring-3000 Blue, 44",
                                    "1": "742.35",
                                    "2": "461.4448",
                                    "3": "280.9052"
                                },
                                {
                                    "0": "Touring-3000 Blue, 50",
                                    "1": "742.35",
                                    "2": "461.4448",
                                    "3": "280.9052"
                                },
                                {
                                    "0": "Mountain-500 Silver, 40",
                                    "1": "564.99",
                                    "2": "308.2179",
                                    "3": "256.7721"
                                },
                                {
                                    "0": "Mountain-500 Silver, 42",
                                    "1": "564.99",
                                    "2": "308.2179",
                                    "3": "256.7721"
                                },
                                {
                                    "0": "Mountain-500 Silver, 44",
                                    "1": "564.99",
                                    "2": "308.2179",
                                    "3": "256.7721"
                                },
                                {
                                    "0": "Mountain-500 Silver, 48",
                                    "1": "564.99",
                                    "2": "308.2179",
                                    "3": "256.7721"
                                },
                                {
                                    "0": "Mountain-500 Silver, 52",
                                    "1": "564.99",
                                    "2": "308.2179",
                                    "3": "256.7721"
                                },
                                {
                                    "0": "Mountain-500 Black, 40",
                                    "1": "539.99",
                                    "2": "294.5797",
                                    "3": "245.4103"
                                },
                                {
                                    "0": "Mountain-500 Black, 42",
                                    "1": "539.99",
                                    "2": "294.5797",
                                    "3": "245.4103"
                                },
                                {
                                    "0": "Mountain-500 Black, 44",
                                    "1": "539.99",
                                    "2": "294.5797",
                                    "3": "245.4103"
                                },
                                {
                                    "0": "Mountain-500 Black, 48",
                                    "1": "539.99",
                                    "2": "294.5797",
                                    "3": "245.4103"
                                },
                                {
                                    "0": "Mountain-500 Black, 52",
                                    "1": "539.99",
                                    "2": "294.5797",
                                    "3": "245.4103"
                                },
                                {
                                    "0": "Road-750 Black, 44",
                                    "1": "539.99",
                                    "2": "343.6496",
                                    "3": "196.3404"
                                },
                                {
                                    "0": "Road-750 Black, 48",
                                    "1": "539.99",
                                    "2": "343.6496",
                                    "3": "196.3404"
                                },
                                {
                                    "0": "Road-750 Black, 52",
                                    "1": "539.99",
                                    "2": "343.6496",
                                    "3": "196.3404"
                                },
                                {
                                    "0": "Road-750 Black, 58",
                                    "1": "539.99",
                                    "2": "343.6496",
                                    "3": "196.3404"
                                }
                            ]
                        },
                        "text/html": "<table><tr><th>Name</th><th>ListPrice</th><th>StandardCost</th><th>PotentialProfit</th></tr><tr><td>Mountain-100 Silver, 38</td><td>3399.99</td><td>1912.1544</td><td>1487.8356</td></tr><tr><td>Mountain-100 Silver, 42</td><td>3399.99</td><td>1912.1544</td><td>1487.8356</td></tr><tr><td>Mountain-100 Silver, 44</td><td>3399.99</td><td>1912.1544</td><td>1487.8356</td></tr><tr><td>Mountain-100 Silver, 48</td><td>3399.99</td><td>1912.1544</td><td>1487.8356</td></tr><tr><td>Mountain-100 Black, 38</td><td>3374.99</td><td>1898.0944</td><td>1476.8956</td></tr><tr><td>Mountain-100 Black, 42</td><td>3374.99</td><td>1898.0944</td><td>1476.8956</td></tr><tr><td>Mountain-100 Black, 44</td><td>3374.99</td><td>1898.0944</td><td>1476.8956</td></tr><tr><td>Mountain-100 Black, 48</td><td>3374.99</td><td>1898.0944</td><td>1476.8956</td></tr><tr><td>Road-150 Red, 62</td><td>3578.27</td><td>2171.2942</td><td>1406.9758</td></tr><tr><td>Road-150 Red, 44</td><td>3578.27</td><td>2171.2942</td><td>1406.9758</td></tr><tr><td>Road-150 Red, 48</td><td>3578.27</td><td>2171.2942</td><td>1406.9758</td></tr><tr><td>Road-150 Red, 52</td><td>3578.27</td><td>2171.2942</td><td>1406.9758</td></tr><tr><td>Road-150 Red, 56</td><td>3578.27</td><td>2171.2942</td><td>1406.9758</td></tr><tr><td>Mountain-200 Silver, 38</td><td>2319.99</td><td>1265.6195</td><td>1054.3705</td></tr><tr><td>Mountain-200 Silver, 42</td><td>2319.99</td><td>1265.6195</td><td>1054.3705</td></tr><tr><td>Mountain-200 Silver, 46</td><td>2319.99</td><td>1265.6195</td><td>1054.3705</td></tr><tr><td>Mountain-200 Black, 38</td><td>2294.99</td><td>1251.9813</td><td>1043.0087</td></tr><tr><td>Mountain-200 Black, 42</td><td>2294.99</td><td>1251.9813</td><td>1043.0087</td></tr><tr><td>Mountain-200 Black, 46</td><td>2294.99</td><td>1251.9813</td><td>1043.0087</td></tr><tr><td>Road-250 Red, 44</td><td>2443.35</td><td>1518.7864</td><td>924.5636</td></tr><tr><td>Road-250 Red, 48</td><td>2443.35</td><td>1518.7864</td><td>924.5636</td></tr><tr><td>Road-250 Red, 52</td><td>2443.35</td><td>1518.7864</td><td>924.5636</td></tr><tr><td>Touring-1000 Yellow, 46</td><td>2384.07</td><td>1481.9379</td><td>902.1321</td></tr><tr><td>Touring-1000 Yellow, 50</td><td>2384.07</td><td>1481.9379</td><td>902.1321</td></tr><tr><td>Touring-1000 Yellow, 54</td><td>2384.07</td><td>1481.9379</td><td>902.1321</td></tr><tr><td>Touring-1000 Yellow, 60</td><td>2384.07</td><td>1481.9379</td><td>902.1321</td></tr><tr><td>Touring-1000 Blue, 46</td><td>2384.07</td><td>1481.9379</td><td>902.1321</td></tr><tr><td>Touring-1000 Blue, 50</td><td>2384.07</td><td>1481.9379</td><td>902.1321</td></tr><tr><td>Touring-1000 Blue, 54</td><td>2384.07</td><td>1481.9379</td><td>902.1321</td></tr><tr><td>Touring-1000 Blue, 60</td><td>2384.07</td><td>1481.9379</td><td>902.1321</td></tr><tr><td>Road-250 Red, 58</td><td>2443.35</td><td>1554.9479</td><td>888.4021</td></tr><tr><td>Road-250 Black, 44</td><td>2443.35</td><td>1554.9479</td><td>888.4021</td></tr><tr><td>Road-250 Black, 48</td><td>2443.35</td><td>1554.9479</td><td>888.4021</td></tr><tr><td>Road-250 Black, 52</td><td>2443.35</td><td>1554.9479</td><td>888.4021</td></tr><tr><td>Road-250 Black, 58</td><td>2443.35</td><td>1554.9479</td><td>888.4021</td></tr><tr><td>Road-350-W Yellow, 40</td><td>1700.99</td><td>1082.51</td><td>618.48</td></tr><tr><td>Road-350-W Yellow, 42</td><td>1700.99</td><td>1082.51</td><td>618.48</td></tr><tr><td>Road-350-W Yellow, 44</td><td>1700.99</td><td>1082.51</td><td>618.48</td></tr><tr><td>Road-350-W Yellow, 48</td><td>1700.99</td><td>1082.51</td><td>618.48</td></tr><tr><td>Road-450 Red, 58</td><td>1457.99</td><td>884.7083</td><td>573.2817</td></tr><tr><td>Road-450 Red, 60</td><td>1457.99</td><td>884.7083</td><td>573.2817</td></tr><tr><td>Road-450 Red, 44</td><td>1457.99</td><td>884.7083</td><td>573.2817</td></tr><tr><td>Road-450 Red, 48</td><td>1457.99</td><td>884.7083</td><td>573.2817</td></tr><tr><td>Road-450 Red, 52</td><td>1457.99</td><td>884.7083</td><td>573.2817</td></tr><tr><td>Mountain-300 Black, 38</td><td>1079.99</td><td>598.4354</td><td>481.5546</td></tr><tr><td>Mountain-300 Black, 40</td><td>1079.99</td><td>598.4354</td><td>481.5546</td></tr><tr><td>Mountain-300 Black, 44</td><td>1079.99</td><td>598.4354</td><td>481.5546</td></tr><tr><td>Mountain-300 Black, 48</td><td>1079.99</td><td>598.4354</td><td>481.5546</td></tr><tr><td>Touring-2000 Blue, 46</td><td>1214.85</td><td>755.1508</td><td>459.6992</td></tr><tr><td>Touring-2000 Blue, 50</td><td>1214.85</td><td>755.1508</td><td>459.6992</td></tr><tr><td>Touring-2000 Blue, 54</td><td>1214.85</td><td>755.1508</td><td>459.6992</td></tr><tr><td>Touring-2000 Blue, 60</td><td>1214.85</td><td>755.1508</td><td>459.6992</td></tr><tr><td>Road-550-W Yellow, 38</td><td>1120.49</td><td>713.0798</td><td>407.4102</td></tr><tr><td>Road-550-W Yellow, 40</td><td>1120.49</td><td>713.0798</td><td>407.4102</td></tr><tr><td>Road-550-W Yellow, 42</td><td>1120.49</td><td>713.0798</td><td>407.4102</td></tr><tr><td>Road-550-W Yellow, 44</td><td>1120.49</td><td>713.0798</td><td>407.4102</td></tr><tr><td>Road-550-W Yellow, 48</td><td>1120.49</td><td>713.0798</td><td>407.4102</td></tr><tr><td>Mountain-400-W Silver, 38</td><td>769.49</td><td>419.7784</td><td>349.7116</td></tr><tr><td>Mountain-400-W Silver, 40</td><td>769.49</td><td>419.7784</td><td>349.7116</td></tr><tr><td>Mountain-400-W Silver, 42</td><td>769.49</td><td>419.7784</td><td>349.7116</td></tr><tr><td>Mountain-400-W Silver, 46</td><td>769.49</td><td>419.7784</td><td>349.7116</td></tr><tr><td>Road-650 Red, 58</td><td>782.99</td><td>486.7066</td><td>296.2834</td></tr><tr><td>Road-650 Red, 60</td><td>782.99</td><td>486.7066</td><td>296.2834</td></tr><tr><td>Road-650 Red, 62</td><td>782.99</td><td>486.7066</td><td>296.2834</td></tr><tr><td>Road-650 Red, 44</td><td>782.99</td><td>486.7066</td><td>296.2834</td></tr><tr><td>Road-650 Red, 48</td><td>782.99</td><td>486.7066</td><td>296.2834</td></tr><tr><td>Road-650 Red, 52</td><td>782.99</td><td>486.7066</td><td>296.2834</td></tr><tr><td>Road-650 Black, 58</td><td>782.99</td><td>486.7066</td><td>296.2834</td></tr><tr><td>Road-650 Black, 60</td><td>782.99</td><td>486.7066</td><td>296.2834</td></tr><tr><td>Road-650 Black, 62</td><td>782.99</td><td>486.7066</td><td>296.2834</td></tr><tr><td>Road-650 Black, 44</td><td>782.99</td><td>486.7066</td><td>296.2834</td></tr><tr><td>Road-650 Black, 48</td><td>782.99</td><td>486.7066</td><td>296.2834</td></tr><tr><td>Road-650 Black, 52</td><td>782.99</td><td>486.7066</td><td>296.2834</td></tr><tr><td>Touring-3000 Blue, 54</td><td>742.35</td><td>461.4448</td><td>280.9052</td></tr><tr><td>Touring-3000 Blue, 58</td><td>742.35</td><td>461.4448</td><td>280.9052</td></tr><tr><td>Touring-3000 Blue, 62</td><td>742.35</td><td>461.4448</td><td>280.9052</td></tr><tr><td>Touring-3000 Yellow, 44</td><td>742.35</td><td>461.4448</td><td>280.9052</td></tr><tr><td>Touring-3000 Yellow, 50</td><td>742.35</td><td>461.4448</td><td>280.9052</td></tr><tr><td>Touring-3000 Yellow, 54</td><td>742.35</td><td>461.4448</td><td>280.9052</td></tr><tr><td>Touring-3000 Yellow, 58</td><td>742.35</td><td>461.4448</td><td>280.9052</td></tr><tr><td>Touring-3000 Yellow, 62</td><td>742.35</td><td>461.4448</td><td>280.9052</td></tr><tr><td>Touring-3000 Blue, 44</td><td>742.35</td><td>461.4448</td><td>280.9052</td></tr><tr><td>Touring-3000 Blue, 50</td><td>742.35</td><td>461.4448</td><td>280.9052</td></tr><tr><td>Mountain-500 Silver, 40</td><td>564.99</td><td>308.2179</td><td>256.7721</td></tr><tr><td>Mountain-500 Silver, 42</td><td>564.99</td><td>308.2179</td><td>256.7721</td></tr><tr><td>Mountain-500 Silver, 44</td><td>564.99</td><td>308.2179</td><td>256.7721</td></tr><tr><td>Mountain-500 Silver, 48</td><td>564.99</td><td>308.2179</td><td>256.7721</td></tr><tr><td>Mountain-500 Silver, 52</td><td>564.99</td><td>308.2179</td><td>256.7721</td></tr><tr><td>Mountain-500 Black, 40</td><td>539.99</td><td>294.5797</td><td>245.4103</td></tr><tr><td>Mountain-500 Black, 42</td><td>539.99</td><td>294.5797</td><td>245.4103</td></tr><tr><td>Mountain-500 Black, 44</td><td>539.99</td><td>294.5797</td><td>245.4103</td></tr><tr><td>Mountain-500 Black, 48</td><td>539.99</td><td>294.5797</td><td>245.4103</td></tr><tr><td>Mountain-500 Black, 52</td><td>539.99</td><td>294.5797</td><td>245.4103</td></tr><tr><td>Road-750 Black, 44</td><td>539.99</td><td>343.6496</td><td>196.3404</td></tr><tr><td>Road-750 Black, 48</td><td>539.99</td><td>343.6496</td><td>196.3404</td></tr><tr><td>Road-750 Black, 52</td><td>539.99</td><td>343.6496</td><td>196.3404</td></tr><tr><td>Road-750 Black, 58</td><td>539.99</td><td>343.6496</td><td>196.3404</td></tr></table>"
                    },
                    "metadata": {}
                }
            ],
            "execution_count": 2
        },
        {
            "cell_type": "markdown",
            "source": [
                "The Mountain-100 and Road-150 lines have the potential to earn the highest profits for mountain and road bikes. The Mountain-200 and Road-250 come in second, followed by the Touring-1000 line as the highest potential earner for touring bikes."
            ],
            "metadata": {
                "language": "sql",
                "azdata_cell_guid": "9285545d-8ef5-4980-9435-6b30163b98aa"
            },
            "attachments": {}
        }
    ]
}