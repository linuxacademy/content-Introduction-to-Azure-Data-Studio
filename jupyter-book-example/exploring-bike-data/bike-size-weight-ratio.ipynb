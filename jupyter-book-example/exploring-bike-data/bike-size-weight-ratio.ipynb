{
    "cells": [
        {
            "attachments": {},
            "cell_type": "markdown",
            "metadata": {
                "azdata_cell_guid": "d05d8589-5ad5-4c6f-b660-52b4a0859c2d"
            },
            "source": [
                "# Bike Size-to-Weight Ratio"
            ]
        },
        {
            "attachments": {},
            "cell_type": "markdown",
            "metadata": {
                "azdata_cell_guid": "7de41ee4-594e-4d8c-8d7e-ed1c0f0057c1"
            },
            "source": [
                "The last calculation we'll look at is the size-to-weight ratio for all bike categories. This calculation attempts to identify the most comfortable bike for the customer, especially when they choose one of the longer tours in the program. \n",
                "\n",
                "When making this calculation, remember that `Size` has a data type of `VARCHAR` based on the different values for clothing sizes (e.g., `L`) and bike sizes (e.g., `53`). You'll have to `CAST` the values as `INT` to get a successful numeric calculation. \n",
                "\n",
                "A higher size-to-weight ratio is better in this scenario because for each unit of size, the bike weighs less. Therefore, it could be easier to maneuver these bikes on longer adventures."
            ]
        },
        {
            "cell_type": "code",
            "execution_count": 1,
            "metadata": {
                "azdata_cell_guid": "4eab6e3b-f391-410e-a484-ff1519c2cf2a",
                "language": "sql",
                "tags": []
            },
            "outputs": [
                {
                    "data": {
                        "text/html": [
                            "(97 rows affected)"
                        ]
                    },
                    "metadata": {},
                    "output_type": "display_data"
                },
                {
                    "data": {
                        "text/html": [
                            "Total execution time: 00:00:00.014"
                        ]
                    },
                    "metadata": {},
                    "output_type": "display_data"
                },
                {
                    "data": {
                        "application/vnd.dataresource+json": {
                            "data": [
                                {
                                    "0": "Road-150 Red, 62",
                                    "1": "0.009112487"
                                },
                                {
                                    "0": "Road-150 Red, 56",
                                    "1": "0.008410050"
                                },
                                {
                                    "0": "Road-250 Black, 58",
                                    "1": "0.008154898"
                                },
                                {
                                    "0": "Road-250 Red, 58",
                                    "1": "0.008098081"
                                },
                                {
                                    "0": "Road-150 Red, 52",
                                    "1": "0.007950134"
                                },
                                {
                                    "0": "Road-150 Red, 48",
                                    "1": "0.007489199"
                                },
                                {
                                    "0": "Road-250 Red, 52",
                                    "1": "0.007434561"
                                },
                                {
                                    "0": "Road-250 Black, 52",
                                    "1": "0.007434561"
                                },
                                {
                                    "0": "Road-450 Red, 60",
                                    "1": "0.007389836"
                                },
                                {
                                    "0": "Road-450 Red, 58",
                                    "1": "0.007187673"
                                },
                                {
                                    "0": "Road-150 Red, 44",
                                    "1": "0.007044587"
                                },
                                {
                                    "0": "Road-250 Black, 48",
                                    "1": "0.006994209"
                                },
                                {
                                    "0": "Road-250 Red, 48",
                                    "1": "0.006994209"
                                },
                                {
                                    "0": "Road-650 Red, 62",
                                    "1": "0.006834365"
                                },
                                {
                                    "0": "Road-650 Black, 62",
                                    "1": "0.006834365"
                                },
                                {
                                    "0": "Road-650 Black, 60",
                                    "1": "0.006647138"
                                },
                                {
                                    "0": "Road-650 Red, 60",
                                    "1": "0.006647138"
                                },
                                {
                                    "0": "Road-450 Red, 52",
                                    "1": "0.006580995"
                                },
                                {
                                    "0": "Road-250 Red, 44",
                                    "1": "0.006567634"
                                },
                                {
                                    "0": "Road-250 Black, 44",
                                    "1": "0.006567634"
                                },
                                {
                                    "0": "Road-650 Red, 58",
                                    "1": "0.006461279"
                                },
                                {
                                    "0": "Road-650 Black, 58",
                                    "1": "0.006461279"
                                },
                                {
                                    "0": "Road-350-W Yellow, 48",
                                    "1": "0.006444726"
                                },
                                {
                                    "0": "Road-450 Red, 48",
                                    "1": "0.006177606"
                                },
                                {
                                    "0": "Road-750 Black, 58",
                                    "1": "0.006150491"
                                },
                                {
                                    "0": "Road-350-W Yellow, 44",
                                    "1": "0.006013878"
                                },
                                {
                                    "0": "Road-650 Red, 52",
                                    "1": "0.005903241"
                                },
                                {
                                    "0": "Road-650 Black, 52",
                                    "1": "0.005903241"
                                },
                                {
                                    "0": "Road-350-W Yellow, 42",
                                    "1": "0.005871571"
                                },
                                {
                                    "0": "Road-450 Red, 44",
                                    "1": "0.005784374"
                                },
                                {
                                    "0": "Road-350-W Yellow, 40",
                                    "1": "0.005744972"
                                },
                                {
                                    "0": "Road-550-W Yellow, 48",
                                    "1": "0.005665013"
                                },
                                {
                                    "0": "Road-750 Black, 52",
                                    "1": "0.005614150"
                                },
                                {
                                    "0": "Road-650 Red, 48",
                                    "1": "0.005531751"
                                },
                                {
                                    "0": "Road-650 Black, 48",
                                    "1": "0.005531751"
                                },
                                {
                                    "0": "Road-550-W Yellow, 44",
                                    "1": "0.005266225"
                                },
                                {
                                    "0": "Road-750 Black, 48",
                                    "1": "0.005256949"
                                },
                                {
                                    "0": "Road-650 Black, 44",
                                    "1": "0.005168031"
                                },
                                {
                                    "0": "Road-650 Red, 44",
                                    "1": "0.005168031"
                                },
                                {
                                    "0": "Touring-1000 Yellow, 60",
                                    "1": "0.005107260"
                                },
                                {
                                    "0": "Touring-1000 Blue, 60",
                                    "1": "0.005107260"
                                },
                                {
                                    "0": "Road-550-W Yellow, 42",
                                    "1": "0.005107258"
                                },
                                {
                                    "0": "Road-550-W Yellow, 40",
                                    "1": "0.004962600"
                                },
                                {
                                    "0": "Mountain-100 Silver, 48",
                                    "1": "0.004940355"
                                },
                                {
                                    "0": "Mountain-100 Black, 48",
                                    "1": "0.004940355"
                                },
                                {
                                    "0": "Road-750 Black, 44",
                                    "1": "0.004906623"
                                },
                                {
                                    "0": "Road-550-W Yellow, 38",
                                    "1": "0.004828591"
                                },
                                {
                                    "0": "Touring-2000 Blue, 60",
                                    "1": "0.004741149"
                                },
                                {
                                    "0": "Touring-1000 Yellow, 54",
                                    "1": "0.004635913"
                                },
                                {
                                    "0": "Touring-1000 Blue, 54",
                                    "1": "0.004635913"
                                },
                                {
                                    "0": "Mountain-100 Black, 44",
                                    "1": "0.004590812"
                                },
                                {
                                    "0": "Mountain-100 Silver, 44",
                                    "1": "0.004590812"
                                },
                                {
                                    "0": "Touring-3000 Blue, 62",
                                    "1": "0.004556243"
                                },
                                {
                                    "0": "Touring-3000 Yellow, 62",
                                    "1": "0.004556243"
                                },
                                {
                                    "0": "Mountain-100 Black, 42",
                                    "1": "0.004458097"
                                },
                                {
                                    "0": "Mountain-100 Silver, 42",
                                    "1": "0.004458097"
                                },
                                {
                                    "0": "Touring-1000 Yellow, 50",
                                    "1": "0.004336415"
                                },
                                {
                                    "0": "Touring-1000 Blue, 50",
                                    "1": "0.004336415"
                                },
                                {
                                    "0": "Touring-2000 Blue, 54",
                                    "1": "0.004300948"
                                },
                                {
                                    "0": "Touring-3000 Yellow, 58",
                                    "1": "0.004292337"
                                },
                                {
                                    "0": "Touring-3000 Blue, 58",
                                    "1": "0.004276548"
                                },
                                {
                                    "0": "Mountain-200 Silver, 46",
                                    "1": "0.004202782"
                                },
                                {
                                    "0": "Mountain-200 Black, 46",
                                    "1": "0.004202782"
                                },
                                {
                                    "0": "Mountain-100 Silver, 38",
                                    "1": "0.004116759"
                                },
                                {
                                    "0": "Mountain-100 Black, 38",
                                    "1": "0.004116759"
                                },
                                {
                                    "0": "Touring-3000 Yellow, 54",
                                    "1": "0.004046574"
                                },
                                {
                                    "0": "Touring-1000 Yellow, 46",
                                    "1": "0.004035540"
                                },
                                {
                                    "0": "Touring-1000 Blue, 46",
                                    "1": "0.004035540"
                                },
                                {
                                    "0": "Touring-2000 Blue, 50",
                                    "1": "0.004020119"
                                },
                                {
                                    "0": "Touring-3000 Blue, 54",
                                    "1": "0.004011127"
                                },
                                {
                                    "0": "Mountain-300 Black, 48",
                                    "1": "0.004005390"
                                },
                                {
                                    "0": "Mountain-500 Black, 52",
                                    "1": "0.003997244"
                                },
                                {
                                    "0": "Mountain-500 Silver, 52",
                                    "1": "0.003997244"
                                },
                                {
                                    "0": "Mountain-200 Black, 42",
                                    "1": "0.003895442"
                                },
                                {
                                    "0": "Mountain-200 Silver, 42",
                                    "1": "0.003895442"
                                },
                                {
                                    "0": "Touring-3000 Yellow, 50",
                                    "1": "0.003784129"
                                },
                                {
                                    "0": "Touring-3000 Blue, 50",
                                    "1": "0.003784129"
                                },
                                {
                                    "0": "Touring-2000 Blue, 46",
                                    "1": "0.003738044"
                                },
                                {
                                    "0": "Mountain-500 Silver, 48",
                                    "1": "0.003723519"
                                },
                                {
                                    "0": "Mountain-500 Black, 48",
                                    "1": "0.003723519"
                                },
                                {
                                    "0": "Mountain-300 Black, 44",
                                    "1": "0.003712356"
                                },
                                {
                                    "0": "Mountain-400-W Silver, 46",
                                    "1": "0.003698510"
                                },
                                {
                                    "0": "Mountain-200 Black, 38",
                                    "1": "0.003587840"
                                },
                                {
                                    "0": "Mountain-200 Silver, 38",
                                    "1": "0.003587840"
                                },
                                {
                                    "0": "Mountain-500 Silver, 44",
                                    "1": "0.003448413"
                                },
                                {
                                    "0": "Mountain-500 Black, 44",
                                    "1": "0.003448413"
                                },
                                {
                                    "0": "Mountain-300 Black, 40",
                                    "1": "0.003422017"
                                },
                                {
                                    "0": "Mountain-400-W Silver, 42",
                                    "1": "0.003412997"
                                },
                                {
                                    "0": "Touring-3000 Blue, 44",
                                    "1": "0.003371704"
                                },
                                {
                                    "0": "Touring-3000 Yellow, 44",
                                    "1": "0.003371704"
                                },
                                {
                                    "0": "Mountain-500 Silver, 42",
                                    "1": "0.003334341"
                                },
                                {
                                    "0": "Mountain-500 Black, 42",
                                    "1": "0.003334341"
                                },
                                {
                                    "0": "Mountain-300 Black, 38",
                                    "1": "0.003304776"
                                },
                                {
                                    "0": "Mountain-400-W Silver, 40",
                                    "1": "0.003294187"
                                },
                                {
                                    "0": "Mountain-500 Silver, 40",
                                    "1": "0.003224326"
                                },
                                {
                                    "0": "Mountain-500 Black, 40",
                                    "1": "0.003224326"
                                },
                                {
                                    "0": "Mountain-400-W Silver, 38",
                                    "1": "0.003179357"
                                }
                            ],
                            "schema": {
                                "fields": [
                                    {
                                        "name": "Name"
                                    },
                                    {
                                        "name": "SizeToWeightRatio"
                                    }
                                ]
                            }
                        },
                        "text/html": [
                            "<table>\n",
                            "<tr><th>Name</th><th>SizeToWeightRatio</th></tr>\n",
                            "<tr><td>Road-150 Red, 62</td><td>0.009112487</td></tr>\n",
                            "<tr><td>Road-150 Red, 56</td><td>0.008410050</td></tr>\n",
                            "<tr><td>Road-250 Black, 58</td><td>0.008154898</td></tr>\n",
                            "<tr><td>Road-250 Red, 58</td><td>0.008098081</td></tr>\n",
                            "<tr><td>Road-150 Red, 52</td><td>0.007950134</td></tr>\n",
                            "<tr><td>Road-150 Red, 48</td><td>0.007489199</td></tr>\n",
                            "<tr><td>Road-250 Red, 52</td><td>0.007434561</td></tr>\n",
                            "<tr><td>Road-250 Black, 52</td><td>0.007434561</td></tr>\n",
                            "<tr><td>Road-450 Red, 60</td><td>0.007389836</td></tr>\n",
                            "<tr><td>Road-450 Red, 58</td><td>0.007187673</td></tr>\n",
                            "<tr><td>Road-150 Red, 44</td><td>0.007044587</td></tr>\n",
                            "<tr><td>Road-250 Black, 48</td><td>0.006994209</td></tr>\n",
                            "<tr><td>Road-250 Red, 48</td><td>0.006994209</td></tr>\n",
                            "<tr><td>Road-650 Red, 62</td><td>0.006834365</td></tr>\n",
                            "<tr><td>Road-650 Black, 62</td><td>0.006834365</td></tr>\n",
                            "<tr><td>Road-650 Black, 60</td><td>0.006647138</td></tr>\n",
                            "<tr><td>Road-650 Red, 60</td><td>0.006647138</td></tr>\n",
                            "<tr><td>Road-450 Red, 52</td><td>0.006580995</td></tr>\n",
                            "<tr><td>Road-250 Red, 44</td><td>0.006567634</td></tr>\n",
                            "<tr><td>Road-250 Black, 44</td><td>0.006567634</td></tr>\n",
                            "<tr><td>Road-650 Red, 58</td><td>0.006461279</td></tr>\n",
                            "<tr><td>Road-650 Black, 58</td><td>0.006461279</td></tr>\n",
                            "<tr><td>Road-350-W Yellow, 48</td><td>0.006444726</td></tr>\n",
                            "<tr><td>Road-450 Red, 48</td><td>0.006177606</td></tr>\n",
                            "<tr><td>Road-750 Black, 58</td><td>0.006150491</td></tr>\n",
                            "<tr><td>Road-350-W Yellow, 44</td><td>0.006013878</td></tr>\n",
                            "<tr><td>Road-650 Red, 52</td><td>0.005903241</td></tr>\n",
                            "<tr><td>Road-650 Black, 52</td><td>0.005903241</td></tr>\n",
                            "<tr><td>Road-350-W Yellow, 42</td><td>0.005871571</td></tr>\n",
                            "<tr><td>Road-450 Red, 44</td><td>0.005784374</td></tr>\n",
                            "<tr><td>Road-350-W Yellow, 40</td><td>0.005744972</td></tr>\n",
                            "<tr><td>Road-550-W Yellow, 48</td><td>0.005665013</td></tr>\n",
                            "<tr><td>Road-750 Black, 52</td><td>0.005614150</td></tr>\n",
                            "<tr><td>Road-650 Red, 48</td><td>0.005531751</td></tr>\n",
                            "<tr><td>Road-650 Black, 48</td><td>0.005531751</td></tr>\n",
                            "<tr><td>Road-550-W Yellow, 44</td><td>0.005266225</td></tr>\n",
                            "<tr><td>Road-750 Black, 48</td><td>0.005256949</td></tr>\n",
                            "<tr><td>Road-650 Black, 44</td><td>0.005168031</td></tr>\n",
                            "<tr><td>Road-650 Red, 44</td><td>0.005168031</td></tr>\n",
                            "<tr><td>Touring-1000 Yellow, 60</td><td>0.005107260</td></tr>\n",
                            "<tr><td>Touring-1000 Blue, 60</td><td>0.005107260</td></tr>\n",
                            "<tr><td>Road-550-W Yellow, 42</td><td>0.005107258</td></tr>\n",
                            "<tr><td>Road-550-W Yellow, 40</td><td>0.004962600</td></tr>\n",
                            "<tr><td>Mountain-100 Silver, 48</td><td>0.004940355</td></tr>\n",
                            "<tr><td>Mountain-100 Black, 48</td><td>0.004940355</td></tr>\n",
                            "<tr><td>Road-750 Black, 44</td><td>0.004906623</td></tr>\n",
                            "<tr><td>Road-550-W Yellow, 38</td><td>0.004828591</td></tr>\n",
                            "<tr><td>Touring-2000 Blue, 60</td><td>0.004741149</td></tr>\n",
                            "<tr><td>Touring-1000 Yellow, 54</td><td>0.004635913</td></tr>\n",
                            "<tr><td>Touring-1000 Blue, 54</td><td>0.004635913</td></tr>\n",
                            "<tr><td>Mountain-100 Black, 44</td><td>0.004590812</td></tr>\n",
                            "<tr><td>Mountain-100 Silver, 44</td><td>0.004590812</td></tr>\n",
                            "<tr><td>Touring-3000 Blue, 62</td><td>0.004556243</td></tr>\n",
                            "<tr><td>Touring-3000 Yellow, 62</td><td>0.004556243</td></tr>\n",
                            "<tr><td>Mountain-100 Black, 42</td><td>0.004458097</td></tr>\n",
                            "<tr><td>Mountain-100 Silver, 42</td><td>0.004458097</td></tr>\n",
                            "<tr><td>Touring-1000 Yellow, 50</td><td>0.004336415</td></tr>\n",
                            "<tr><td>Touring-1000 Blue, 50</td><td>0.004336415</td></tr>\n",
                            "<tr><td>Touring-2000 Blue, 54</td><td>0.004300948</td></tr>\n",
                            "<tr><td>Touring-3000 Yellow, 58</td><td>0.004292337</td></tr>\n",
                            "<tr><td>Touring-3000 Blue, 58</td><td>0.004276548</td></tr>\n",
                            "<tr><td>Mountain-200 Silver, 46</td><td>0.004202782</td></tr>\n",
                            "<tr><td>Mountain-200 Black, 46</td><td>0.004202782</td></tr>\n",
                            "<tr><td>Mountain-100 Silver, 38</td><td>0.004116759</td></tr>\n",
                            "<tr><td>Mountain-100 Black, 38</td><td>0.004116759</td></tr>\n",
                            "<tr><td>Touring-3000 Yellow, 54</td><td>0.004046574</td></tr>\n",
                            "<tr><td>Touring-1000 Yellow, 46</td><td>0.004035540</td></tr>\n",
                            "<tr><td>Touring-1000 Blue, 46</td><td>0.004035540</td></tr>\n",
                            "<tr><td>Touring-2000 Blue, 50</td><td>0.004020119</td></tr>\n",
                            "<tr><td>Touring-3000 Blue, 54</td><td>0.004011127</td></tr>\n",
                            "<tr><td>Mountain-300 Black, 48</td><td>0.004005390</td></tr>\n",
                            "<tr><td>Mountain-500 Black, 52</td><td>0.003997244</td></tr>\n",
                            "<tr><td>Mountain-500 Silver, 52</td><td>0.003997244</td></tr>\n",
                            "<tr><td>Mountain-200 Black, 42</td><td>0.003895442</td></tr>\n",
                            "<tr><td>Mountain-200 Silver, 42</td><td>0.003895442</td></tr>\n",
                            "<tr><td>Touring-3000 Yellow, 50</td><td>0.003784129</td></tr>\n",
                            "<tr><td>Touring-3000 Blue, 50</td><td>0.003784129</td></tr>\n",
                            "<tr><td>Touring-2000 Blue, 46</td><td>0.003738044</td></tr>\n",
                            "<tr><td>Mountain-500 Silver, 48</td><td>0.003723519</td></tr>\n",
                            "<tr><td>Mountain-500 Black, 48</td><td>0.003723519</td></tr>\n",
                            "<tr><td>Mountain-300 Black, 44</td><td>0.003712356</td></tr>\n",
                            "<tr><td>Mountain-400-W Silver, 46</td><td>0.003698510</td></tr>\n",
                            "<tr><td>Mountain-200 Black, 38</td><td>0.003587840</td></tr>\n",
                            "<tr><td>Mountain-200 Silver, 38</td><td>0.003587840</td></tr>\n",
                            "<tr><td>Mountain-500 Silver, 44</td><td>0.003448413</td></tr>\n",
                            "<tr><td>Mountain-500 Black, 44</td><td>0.003448413</td></tr>\n",
                            "<tr><td>Mountain-300 Black, 40</td><td>0.003422017</td></tr>\n",
                            "<tr><td>Mountain-400-W Silver, 42</td><td>0.003412997</td></tr>\n",
                            "<tr><td>Touring-3000 Blue, 44</td><td>0.003371704</td></tr>\n",
                            "<tr><td>Touring-3000 Yellow, 44</td><td>0.003371704</td></tr>\n",
                            "<tr><td>Mountain-500 Silver, 42</td><td>0.003334341</td></tr>\n",
                            "<tr><td>Mountain-500 Black, 42</td><td>0.003334341</td></tr>\n",
                            "<tr><td>Mountain-300 Black, 38</td><td>0.003304776</td></tr>\n",
                            "<tr><td>Mountain-400-W Silver, 40</td><td>0.003294187</td></tr>\n",
                            "<tr><td>Mountain-500 Silver, 40</td><td>0.003224326</td></tr>\n",
                            "<tr><td>Mountain-500 Black, 40</td><td>0.003224326</td></tr>\n",
                            "<tr><td>Mountain-400-W Silver, 38</td><td>0.003179357</td></tr>\n",
                            "</table>"
                        ]
                    },
                    "execution_count": 1,
                    "metadata": {},
                    "output_type": "execute_result"
                }
            ],
            "source": [
                "USE AdventureWorksLT2019\n",
                "SELECT Name,\n",
                "       (CAST(Size AS DECIMAL(18,4)) / CAST(Weight AS DECIMAL(18,4))) AS SizeToWeightRatio\n",
                "FROM SalesLT.Product\n",
                "WHERE ProductCategoryID IN ( 5, 6, 7 )\n",
                "ORDER BY SizeToWeightRatio DESC;"
            ]
        },
        {
            "attachments": {},
            "cell_type": "markdown",
            "metadata": {
                "azdata_cell_guid": "5e07d442-9fd6-4c20-9e43-a1fa742b6407",
                "language": "sql"
            },
            "source": [
                "The Road-150, Touring-1000, and Mountain-100 have the best size-to-weight ratio for each of the bike categories."
            ]
        }
    ],
    "metadata": {
        "kernelspec": {
            "display_name": "SQL",
            "language": "sql",
            "name": "SQL"
        },
        "language_info": {
            "name": "sql",
            "version": ""
        }
    },
    "nbformat": 4,
    "nbformat_minor": 2
}
