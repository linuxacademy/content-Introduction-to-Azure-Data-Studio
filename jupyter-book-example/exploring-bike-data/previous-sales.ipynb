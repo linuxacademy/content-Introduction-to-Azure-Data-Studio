{
    "metadata": {
        "kernelspec": {
            "name": "SQL",
            "display_name": "SQL",
            "language": "sql"
        },
        "language_info": {
            "name": "sql",
            "version": ""
        }
    },
    "nbformat_minor": 2,
    "nbformat": 4,
    "cells": [
        {
            "cell_type": "markdown",
            "source": [
                "# Previous Bike Sales"
            ],
            "metadata": {
                "azdata_cell_guid": "d05d8589-5ad5-4c6f-b660-52b4a0859c2d"
            },
            "attachments": {}
        },
        {
            "cell_type": "markdown",
            "source": [
                "## Sales Numbers by Group\n",
                "\n",
                "> **Note**: Remember, Mountain Bikes = `5`, Road Bikes = `6`, and Touring Bikes = `7`.\n",
                "\n",
                "First, let's review previous sales by group."
            ],
            "metadata": {
                "azdata_cell_guid": "f4cdb9c7-7877-4a50-bc8e-ae71f55e2520"
            },
            "attachments": {}
        },
        {
            "cell_type": "code",
            "source": [
                "USE AdventureWorksLT2019\n",
                "SELECT pc.Name,\n",
                "       SUM(so.OrderQty) AS TotalOrderQty\n",
                "FROM SalesLT.SalesOrderDetail AS so\n",
                "    INNER JOIN SalesLT.Product AS p\n",
                "        ON p.ProductId = so.ProductId\n",
                "    INNER JOIN SalesLT.ProductCategory AS pc\n",
                "        ON pc.ProductCategoryID = p.ProductCategoryID\n",
                "WHERE p.ProductCategoryID IN ( 5, 6, 7 )\n",
                "GROUP BY p.ProductCategoryID,\n",
                "         pc.Name\n",
                "ORDER BY TotalOrderQty DESC;"
            ],
            "metadata": {
                "azdata_cell_guid": "4eab6e3b-f391-410e-a484-ff1519c2cf2a",
                "language": "sql"
            },
            "outputs": [
                {
                    "output_type": "display_data",
                    "data": {
                        "text/html": "(3 rows affected)"
                    },
                    "metadata": {}
                },
                {
                    "output_type": "display_data",
                    "data": {
                        "text/html": "Total execution time: 00:00:00.026"
                    },
                    "metadata": {}
                },
                {
                    "output_type": "execute_result",
                    "execution_count": 1,
                    "data": {
                        "application/vnd.dataresource+json": {
                            "data": [
                                {
                                    "0": "Touring Bikes",
                                    "1": "252"
                                },
                                {
                                    "0": "Road Bikes",
                                    "1": "222"
                                },
                                {
                                    "0": "Mountain Bikes",
                                    "1": "209"
                                }
                            ],
                            "schema": {
                                "fields": [
                                    {
                                        "name": "Name"
                                    },
                                    {
                                        "name": "TotalOrders"
                                    }
                                ]
                            }
                        },
                        "text/html": "<table>\n<tr><th>Name</th><th>TotalOrders</th></tr>\n<tr><td>Touring Bikes</td><td>252</td></tr>\n<tr><td>Road Bikes</td><td>222</td></tr>\n<tr><td>Mountain Bikes</td><td>209</td></tr>\n</table>"
                    },
                    "metadata": {}
                }
            ],
            "execution_count": 1
        },
        {
            "cell_type": "markdown",
            "source": [
                "Touring bikes seem to be the most popular bike category. Remember from the previous section that they were also the least expensive."
            ],
            "metadata": {
                "azdata_cell_guid": "2e008bf3-2902-4483-b6d4-87895ae76d2d",
                "language": "sql"
            },
            "attachments": {}
        },
        {
            "cell_type": "markdown",
            "source": [
                "## Sales Numbers by Product\n",
                "\n",
                " Let's break this down further and review sales by individual product."
            ],
            "metadata": {
                "azdata_cell_guid": "a68d68a9-0310-41fc-81b2-07e36a84c78d",
                "language": "sql"
            },
            "attachments": {}
        },
        {
            "cell_type": "code",
            "source": [
                "USE AdventureWorksLT2019\n",
                "SELECT p.Name,\n",
                "       SUM(so.OrderQty) AS TotalOrders\n",
                "FROM SalesLT.SalesOrderDetail AS so\n",
                "    INNER JOIN SalesLT.Product AS p\n",
                "        ON p.ProductId = so.ProductId\n",
                "WHERE p.ProductCategoryID IN ( 5, 6, 7 )\n",
                "GROUP BY p.Name\n",
                "ORDER BY TotalOrders DESC;"
            ],
            "metadata": {
                "azdata_cell_guid": "b6cdb23c-0e44-4f3b-a477-911b11be769e",
                "language": "sql"
            },
            "outputs": [
                {
                    "output_type": "display_data",
                    "data": {
                        "text/html": "(60 rows affected)"
                    },
                    "metadata": {}
                },
                {
                    "output_type": "display_data",
                    "data": {
                        "text/html": "Total execution time: 00:00:00.029"
                    },
                    "metadata": {}
                },
                {
                    "output_type": "execute_result",
                    "execution_count": 2,
                    "data": {
                        "application/vnd.dataresource+json": {
                            "data": [
                                {
                                    "0": "Road-350-W Yellow, 48",
                                    "1": "42"
                                },
                                {
                                    "0": "Mountain-200 Black, 42",
                                    "1": "27"
                                },
                                {
                                    "0": "Mountain-200 Black, 38",
                                    "1": "26"
                                },
                                {
                                    "0": "Touring-1000 Blue, 60",
                                    "1": "26"
                                },
                                {
                                    "0": "Touring-3000 Blue, 50",
                                    "1": "23"
                                },
                                {
                                    "0": "Road-750 Black, 48",
                                    "1": "21"
                                },
                                {
                                    "0": "Road-350-W Yellow, 40",
                                    "1": "20"
                                },
                                {
                                    "0": "Touring-3000 Yellow, 62",
                                    "1": "20"
                                },
                                {
                                    "0": "Road-550-W Yellow, 38",
                                    "1": "19"
                                },
                                {
                                    "0": "Road-350-W Yellow, 42",
                                    "1": "19"
                                },
                                {
                                    "0": "Touring-2000 Blue, 54",
                                    "1": "18"
                                },
                                {
                                    "0": "Touring-3000 Yellow, 44",
                                    "1": "18"
                                },
                                {
                                    "0": "Touring-1000 Yellow, 60",
                                    "1": "17"
                                },
                                {
                                    "0": "Mountain-500 Silver, 52",
                                    "1": "17"
                                },
                                {
                                    "0": "Road-750 Black, 52",
                                    "1": "16"
                                },
                                {
                                    "0": "Touring-1000 Blue, 50",
                                    "1": "16"
                                },
                                {
                                    "0": "Touring-3000 Blue, 54",
                                    "1": "15"
                                },
                                {
                                    "0": "Mountain-200 Silver, 42",
                                    "1": "15"
                                },
                                {
                                    "0": "Road-750 Black, 58",
                                    "1": "15"
                                },
                                {
                                    "0": "Mountain-200 Black, 46",
                                    "1": "14"
                                },
                                {
                                    "0": "Mountain-200 Silver, 46",
                                    "1": "13"
                                },
                                {
                                    "0": "Road-250 Black, 44",
                                    "1": "12"
                                },
                                {
                                    "0": "Road-250 Black, 48",
                                    "1": "12"
                                },
                                {
                                    "0": "Touring-1000 Blue, 46",
                                    "1": "12"
                                },
                                {
                                    "0": "Touring-1000 Yellow, 46",
                                    "1": "12"
                                },
                                {
                                    "0": "Mountain-500 Silver, 42",
                                    "1": "12"
                                },
                                {
                                    "0": "Mountain-500 Black, 48",
                                    "1": "12"
                                },
                                {
                                    "0": "Mountain-500 Silver, 40",
                                    "1": "11"
                                },
                                {
                                    "0": "Mountain-200 Silver, 38",
                                    "1": "11"
                                },
                                {
                                    "0": "Touring-2000 Blue, 60",
                                    "1": "10"
                                },
                                {
                                    "0": "Touring-2000 Blue, 46",
                                    "1": "9"
                                },
                                {
                                    "0": "Touring-2000 Blue, 50",
                                    "1": "9"
                                },
                                {
                                    "0": "Touring-3000 Yellow, 50",
                                    "1": "9"
                                },
                                {
                                    "0": "Mountain-400-W Silver, 46",
                                    "1": "9"
                                },
                                {
                                    "0": "Mountain-400-W Silver, 40",
                                    "1": "9"
                                },
                                {
                                    "0": "Road-550-W Yellow, 48",
                                    "1": "8"
                                },
                                {
                                    "0": "Road-550-W Yellow, 40",
                                    "1": "8"
                                },
                                {
                                    "0": "Road-250 Black, 52",
                                    "1": "8"
                                },
                                {
                                    "0": "Touring-3000 Yellow, 54",
                                    "1": "6"
                                },
                                {
                                    "0": "Touring-3000 Blue, 58",
                                    "1": "6"
                                },
                                {
                                    "0": "Touring-1000 Blue, 54",
                                    "1": "6"
                                },
                                {
                                    "0": "Mountain-500 Silver, 48",
                                    "1": "6"
                                },
                                {
                                    "0": "Mountain-400-W Silver, 42",
                                    "1": "5"
                                },
                                {
                                    "0": "Touring-3000 Blue, 44",
                                    "1": "5"
                                },
                                {
                                    "0": "Road-350-W Yellow, 44",
                                    "1": "5"
                                },
                                {
                                    "0": "Mountain-500 Black, 44",
                                    "1": "5"
                                },
                                {
                                    "0": "Touring-1000 Yellow, 50",
                                    "1": "5"
                                },
                                {
                                    "0": "Road-550-W Yellow, 42",
                                    "1": "5"
                                },
                                {
                                    "0": "Touring-1000 Yellow, 54",
                                    "1": "4"
                                },
                                {
                                    "0": "Mountain-400-W Silver, 38",
                                    "1": "4"
                                },
                                {
                                    "0": "Mountain-500 Silver, 44",
                                    "1": "4"
                                },
                                {
                                    "0": "Mountain-500 Black, 40",
                                    "1": "3"
                                },
                                {
                                    "0": "Mountain-500 Black, 42",
                                    "1": "3"
                                },
                                {
                                    "0": "Mountain-500 Black, 52",
                                    "1": "3"
                                },
                                {
                                    "0": "Road-750 Black, 44",
                                    "1": "3"
                                },
                                {
                                    "0": "Touring-3000 Blue, 62",
                                    "1": "3"
                                },
                                {
                                    "0": "Touring-3000 Yellow, 58",
                                    "1": "3"
                                },
                                {
                                    "0": "Road-550-W Yellow, 44",
                                    "1": "3"
                                },
                                {
                                    "0": "Road-250 Red, 58",
                                    "1": "3"
                                },
                                {
                                    "0": "Road-250 Black, 58",
                                    "1": "3"
                                }
                            ],
                            "schema": {
                                "fields": [
                                    {
                                        "name": "Name"
                                    },
                                    {
                                        "name": "TotalOrders"
                                    }
                                ]
                            }
                        },
                        "text/html": "<table>\n<tr><th>Name</th><th>TotalOrders</th></tr>\n<tr><td>Road-350-W Yellow, 48</td><td>42</td></tr>\n<tr><td>Mountain-200 Black, 42</td><td>27</td></tr>\n<tr><td>Mountain-200 Black, 38</td><td>26</td></tr>\n<tr><td>Touring-1000 Blue, 60</td><td>26</td></tr>\n<tr><td>Touring-3000 Blue, 50</td><td>23</td></tr>\n<tr><td>Road-750 Black, 48</td><td>21</td></tr>\n<tr><td>Road-350-W Yellow, 40</td><td>20</td></tr>\n<tr><td>Touring-3000 Yellow, 62</td><td>20</td></tr>\n<tr><td>Road-550-W Yellow, 38</td><td>19</td></tr>\n<tr><td>Road-350-W Yellow, 42</td><td>19</td></tr>\n<tr><td>Touring-2000 Blue, 54</td><td>18</td></tr>\n<tr><td>Touring-3000 Yellow, 44</td><td>18</td></tr>\n<tr><td>Touring-1000 Yellow, 60</td><td>17</td></tr>\n<tr><td>Mountain-500 Silver, 52</td><td>17</td></tr>\n<tr><td>Road-750 Black, 52</td><td>16</td></tr>\n<tr><td>Touring-1000 Blue, 50</td><td>16</td></tr>\n<tr><td>Touring-3000 Blue, 54</td><td>15</td></tr>\n<tr><td>Mountain-200 Silver, 42</td><td>15</td></tr>\n<tr><td>Road-750 Black, 58</td><td>15</td></tr>\n<tr><td>Mountain-200 Black, 46</td><td>14</td></tr>\n<tr><td>Mountain-200 Silver, 46</td><td>13</td></tr>\n<tr><td>Road-250 Black, 44</td><td>12</td></tr>\n<tr><td>Road-250 Black, 48</td><td>12</td></tr>\n<tr><td>Touring-1000 Blue, 46</td><td>12</td></tr>\n<tr><td>Touring-1000 Yellow, 46</td><td>12</td></tr>\n<tr><td>Mountain-500 Silver, 42</td><td>12</td></tr>\n<tr><td>Mountain-500 Black, 48</td><td>12</td></tr>\n<tr><td>Mountain-500 Silver, 40</td><td>11</td></tr>\n<tr><td>Mountain-200 Silver, 38</td><td>11</td></tr>\n<tr><td>Touring-2000 Blue, 60</td><td>10</td></tr>\n<tr><td>Touring-2000 Blue, 46</td><td>9</td></tr>\n<tr><td>Touring-2000 Blue, 50</td><td>9</td></tr>\n<tr><td>Touring-3000 Yellow, 50</td><td>9</td></tr>\n<tr><td>Mountain-400-W Silver, 46</td><td>9</td></tr>\n<tr><td>Mountain-400-W Silver, 40</td><td>9</td></tr>\n<tr><td>Road-550-W Yellow, 48</td><td>8</td></tr>\n<tr><td>Road-550-W Yellow, 40</td><td>8</td></tr>\n<tr><td>Road-250 Black, 52</td><td>8</td></tr>\n<tr><td>Touring-3000 Yellow, 54</td><td>6</td></tr>\n<tr><td>Touring-3000 Blue, 58</td><td>6</td></tr>\n<tr><td>Touring-1000 Blue, 54</td><td>6</td></tr>\n<tr><td>Mountain-500 Silver, 48</td><td>6</td></tr>\n<tr><td>Mountain-400-W Silver, 42</td><td>5</td></tr>\n<tr><td>Touring-3000 Blue, 44</td><td>5</td></tr>\n<tr><td>Road-350-W Yellow, 44</td><td>5</td></tr>\n<tr><td>Mountain-500 Black, 44</td><td>5</td></tr>\n<tr><td>Touring-1000 Yellow, 50</td><td>5</td></tr>\n<tr><td>Road-550-W Yellow, 42</td><td>5</td></tr>\n<tr><td>Touring-1000 Yellow, 54</td><td>4</td></tr>\n<tr><td>Mountain-400-W Silver, 38</td><td>4</td></tr>\n<tr><td>Mountain-500 Silver, 44</td><td>4</td></tr>\n<tr><td>Mountain-500 Black, 40</td><td>3</td></tr>\n<tr><td>Mountain-500 Black, 42</td><td>3</td></tr>\n<tr><td>Mountain-500 Black, 52</td><td>3</td></tr>\n<tr><td>Road-750 Black, 44</td><td>3</td></tr>\n<tr><td>Touring-3000 Blue, 62</td><td>3</td></tr>\n<tr><td>Touring-3000 Yellow, 58</td><td>3</td></tr>\n<tr><td>Road-550-W Yellow, 44</td><td>3</td></tr>\n<tr><td>Road-250 Red, 58</td><td>3</td></tr>\n<tr><td>Road-250 Black, 58</td><td>3</td></tr>\n</table>"
                    },
                    "metadata": {}
                }
            ],
            "execution_count": 2
        },
        {
            "cell_type": "markdown",
            "source": [
                "The Road-350 sold 55% more units than the next bike, which is the Mountain-200. Remember that the Mountain-200 is also one of the highest potential profit earners based on `ListPrice`."
            ],
            "metadata": {
                "azdata_cell_guid": "1c726bff-728a-4ccf-8822-35e14b83e8b5"
            },
            "attachments": {}
        },
        {
            "cell_type": "markdown",
            "source": [
                "## Average Profit\n",
                "\n",
                "Consider the following points:\n",
                "\n",
                "- `UnitPrice` is the actual agreed-on sales price. Use this to compute the average sales price.\n",
                "- Calculate average profit by subtracting the average sales price from the `StandardCost`."
            ],
            "metadata": {
                "azdata_cell_guid": "0b7eb8c6-6990-43ac-b874-b7096f04d471"
            },
            "attachments": {}
        },
        {
            "cell_type": "code",
            "source": [
                "USE AdventureWorksLT2019\n",
                "SELECT p.Name,\n",
                "       p.StandardCost,\n",
                "       p.ListPrice,\n",
                "       (\n",
                "           SELECT AVG(o.UnitPrice)\n",
                "           FROM SalesLT.SalesOrderDetail AS o\n",
                "           WHERE p.ProductID = o.ProductID\n",
                "       ) AS AvgSalesPrice,\n",
                "       p.StandardCost -\n",
                "       (\n",
                "           SELECT AVG(o.UnitPrice)\n",
                "           FROM SalesLT.SalesOrderDetail AS o\n",
                "           WHERE p.ProductID = o.ProductID\n",
                "       ) AS AvgProfit\n",
                "FROM SalesLT.Product AS p\n",
                "WHERE p.ProductCategoryID IN ( 5, 6, 7 )\n",
                "ORDER BY AvgProfit DESC;"
            ],
            "metadata": {
                "azdata_cell_guid": "8877ae49-e36c-407a-a074-e70f14dca20d",
                "language": "sql"
            },
            "outputs": [
                {
                    "output_type": "display_data",
                    "data": {
                        "text/html": "(97 rows affected)"
                    },
                    "metadata": {}
                },
                {
                    "output_type": "display_data",
                    "data": {
                        "text/html": "Total execution time: 00:00:00.051"
                    },
                    "metadata": {}
                },
                {
                    "output_type": "execute_result",
                    "execution_count": 3,
                    "data": {
                        "application/vnd.dataresource+json": {
                            "data": [
                                {
                                    "0": "Mountain-500 Silver, 40",
                                    "1": "308.2179",
                                    "2": "564.99",
                                    "3": "112.998",
                                    "4": "195.2199"
                                },
                                {
                                    "0": "Mountain-500 Silver, 42",
                                    "1": "308.2179",
                                    "2": "564.99",
                                    "3": "112.998",
                                    "4": "195.2199"
                                },
                                {
                                    "0": "Mountain-500 Silver, 44",
                                    "1": "308.2179",
                                    "2": "564.99",
                                    "3": "112.998",
                                    "4": "195.2199"
                                },
                                {
                                    "0": "Mountain-500 Silver, 48",
                                    "1": "308.2179",
                                    "2": "564.99",
                                    "3": "112.998",
                                    "4": "195.2199"
                                },
                                {
                                    "0": "Mountain-500 Silver, 52",
                                    "1": "308.2179",
                                    "2": "564.99",
                                    "3": "112.998",
                                    "4": "195.2199"
                                },
                                {
                                    "0": "Road-350-W Yellow, 48",
                                    "1": "1082.51",
                                    "2": "1700.99",
                                    "3": "986.5742",
                                    "4": "95.9358"
                                },
                                {
                                    "0": "Road-250 Red, 58",
                                    "1": "1554.9479",
                                    "2": "2443.35",
                                    "3": "1466.01",
                                    "4": "88.9379"
                                },
                                {
                                    "0": "Road-250 Black, 44",
                                    "1": "1554.9479",
                                    "2": "2443.35",
                                    "3": "1466.01",
                                    "4": "88.9379"
                                },
                                {
                                    "0": "Road-250 Black, 48",
                                    "1": "1554.9479",
                                    "2": "2443.35",
                                    "3": "1466.01",
                                    "4": "88.9379"
                                },
                                {
                                    "0": "Road-250 Black, 52",
                                    "1": "1554.9479",
                                    "2": "2443.35",
                                    "3": "1466.01",
                                    "4": "88.9379"
                                },
                                {
                                    "0": "Road-250 Black, 58",
                                    "1": "1554.9479",
                                    "2": "2443.35",
                                    "3": "1466.01",
                                    "4": "88.9379"
                                },
                                {
                                    "0": "Road-350-W Yellow, 42",
                                    "1": "1082.51",
                                    "2": "1700.99",
                                    "3": "1009.254",
                                    "4": "73.256"
                                },
                                {
                                    "0": "Touring-1000 Yellow, 60",
                                    "1": "1481.9379",
                                    "2": "2384.07",
                                    "3": "1418.5216",
                                    "4": "63.4163"
                                },
                                {
                                    "0": "Road-350-W Yellow, 44",
                                    "1": "1082.51",
                                    "2": "1700.99",
                                    "3": "1020.594",
                                    "4": "61.916"
                                },
                                {
                                    "0": "Road-350-W Yellow, 40",
                                    "1": "1082.51",
                                    "2": "1700.99",
                                    "3": "1020.594",
                                    "4": "61.916"
                                },
                                {
                                    "0": "Touring-1000 Yellow, 46",
                                    "1": "1481.9379",
                                    "2": "2384.07",
                                    "3": "1430.442",
                                    "4": "51.4959"
                                },
                                {
                                    "0": "Touring-1000 Yellow, 50",
                                    "1": "1481.9379",
                                    "2": "2384.07",
                                    "3": "1430.442",
                                    "4": "51.4959"
                                },
                                {
                                    "0": "Touring-1000 Yellow, 54",
                                    "1": "1481.9379",
                                    "2": "2384.07",
                                    "3": "1430.442",
                                    "4": "51.4959"
                                },
                                {
                                    "0": "Touring-1000 Blue, 46",
                                    "1": "1481.9379",
                                    "2": "2384.07",
                                    "3": "1430.442",
                                    "4": "51.4959"
                                },
                                {
                                    "0": "Touring-1000 Blue, 50",
                                    "1": "1481.9379",
                                    "2": "2384.07",
                                    "3": "1430.442",
                                    "4": "51.4959"
                                },
                                {
                                    "0": "Touring-1000 Blue, 54",
                                    "1": "1481.9379",
                                    "2": "2384.07",
                                    "3": "1430.442",
                                    "4": "51.4959"
                                },
                                {
                                    "0": "Touring-1000 Blue, 60",
                                    "1": "1481.9379",
                                    "2": "2384.07",
                                    "3": "1430.442",
                                    "4": "51.4959"
                                },
                                {
                                    "0": "Road-550-W Yellow, 38",
                                    "1": "713.0798",
                                    "2": "1120.49",
                                    "3": "672.294",
                                    "4": "40.7858"
                                },
                                {
                                    "0": "Road-550-W Yellow, 40",
                                    "1": "713.0798",
                                    "2": "1120.49",
                                    "3": "672.294",
                                    "4": "40.7858"
                                },
                                {
                                    "0": "Road-550-W Yellow, 42",
                                    "1": "713.0798",
                                    "2": "1120.49",
                                    "3": "672.294",
                                    "4": "40.7858"
                                },
                                {
                                    "0": "Road-550-W Yellow, 44",
                                    "1": "713.0798",
                                    "2": "1120.49",
                                    "3": "672.294",
                                    "4": "40.7858"
                                },
                                {
                                    "0": "Road-550-W Yellow, 48",
                                    "1": "713.0798",
                                    "2": "1120.49",
                                    "3": "672.294",
                                    "4": "40.7858"
                                },
                                {
                                    "0": "Touring-2000 Blue, 60",
                                    "1": "755.1508",
                                    "2": "1214.85",
                                    "3": "728.91",
                                    "4": "26.2408"
                                },
                                {
                                    "0": "Touring-2000 Blue, 46",
                                    "1": "755.1508",
                                    "2": "1214.85",
                                    "3": "728.91",
                                    "4": "26.2408"
                                },
                                {
                                    "0": "Touring-2000 Blue, 50",
                                    "1": "755.1508",
                                    "2": "1214.85",
                                    "3": "728.91",
                                    "4": "26.2408"
                                },
                                {
                                    "0": "Touring-2000 Blue, 54",
                                    "1": "755.1508",
                                    "2": "1214.85",
                                    "3": "728.91",
                                    "4": "26.2408"
                                },
                                {
                                    "0": "Touring-3000 Yellow, 62",
                                    "1": "461.4448",
                                    "2": "742.35",
                                    "3": "441.6982",
                                    "4": "19.7466"
                                },
                                {
                                    "0": "Road-750 Black, 44",
                                    "1": "343.6496",
                                    "2": "539.99",
                                    "3": "323.994",
                                    "4": "19.6556"
                                },
                                {
                                    "0": "Road-750 Black, 48",
                                    "1": "343.6496",
                                    "2": "539.99",
                                    "3": "323.994",
                                    "4": "19.6556"
                                },
                                {
                                    "0": "Road-750 Black, 52",
                                    "1": "343.6496",
                                    "2": "539.99",
                                    "3": "323.994",
                                    "4": "19.6556"
                                },
                                {
                                    "0": "Road-750 Black, 58",
                                    "1": "343.6496",
                                    "2": "539.99",
                                    "3": "323.994",
                                    "4": "19.6556"
                                },
                                {
                                    "0": "Touring-3000 Blue, 44",
                                    "1": "461.4448",
                                    "2": "742.35",
                                    "3": "445.41",
                                    "4": "16.0348"
                                },
                                {
                                    "0": "Touring-3000 Blue, 50",
                                    "1": "461.4448",
                                    "2": "742.35",
                                    "3": "445.41",
                                    "4": "16.0348"
                                },
                                {
                                    "0": "Touring-3000 Blue, 54",
                                    "1": "461.4448",
                                    "2": "742.35",
                                    "3": "445.41",
                                    "4": "16.0348"
                                },
                                {
                                    "0": "Touring-3000 Blue, 58",
                                    "1": "461.4448",
                                    "2": "742.35",
                                    "3": "445.41",
                                    "4": "16.0348"
                                },
                                {
                                    "0": "Touring-3000 Blue, 62",
                                    "1": "461.4448",
                                    "2": "742.35",
                                    "3": "445.41",
                                    "4": "16.0348"
                                },
                                {
                                    "0": "Touring-3000 Yellow, 44",
                                    "1": "461.4448",
                                    "2": "742.35",
                                    "3": "445.41",
                                    "4": "16.0348"
                                },
                                {
                                    "0": "Touring-3000 Yellow, 50",
                                    "1": "461.4448",
                                    "2": "742.35",
                                    "3": "445.41",
                                    "4": "16.0348"
                                },
                                {
                                    "0": "Touring-3000 Yellow, 54",
                                    "1": "461.4448",
                                    "2": "742.35",
                                    "3": "445.41",
                                    "4": "16.0348"
                                },
                                {
                                    "0": "Touring-3000 Yellow, 58",
                                    "1": "461.4448",
                                    "2": "742.35",
                                    "3": "445.41",
                                    "4": "16.0348"
                                },
                                {
                                    "0": "Mountain-500 Black, 40",
                                    "1": "294.5797",
                                    "2": "539.99",
                                    "3": "323.994",
                                    "4": "-29.4143"
                                },
                                {
                                    "0": "Mountain-500 Black, 42",
                                    "1": "294.5797",
                                    "2": "539.99",
                                    "3": "323.994",
                                    "4": "-29.4143"
                                },
                                {
                                    "0": "Mountain-500 Black, 44",
                                    "1": "294.5797",
                                    "2": "539.99",
                                    "3": "323.994",
                                    "4": "-29.4143"
                                },
                                {
                                    "0": "Mountain-500 Black, 48",
                                    "1": "294.5797",
                                    "2": "539.99",
                                    "3": "323.994",
                                    "4": "-29.4143"
                                },
                                {
                                    "0": "Mountain-500 Black, 52",
                                    "1": "294.5797",
                                    "2": "539.99",
                                    "3": "323.994",
                                    "4": "-29.4143"
                                },
                                {
                                    "0": "Mountain-400-W Silver, 38",
                                    "1": "419.7784",
                                    "2": "769.49",
                                    "3": "461.694",
                                    "4": "-41.9156"
                                },
                                {
                                    "0": "Mountain-400-W Silver, 40",
                                    "1": "419.7784",
                                    "2": "769.49",
                                    "3": "461.694",
                                    "4": "-41.9156"
                                },
                                {
                                    "0": "Mountain-400-W Silver, 42",
                                    "1": "419.7784",
                                    "2": "769.49",
                                    "3": "461.694",
                                    "4": "-41.9156"
                                },
                                {
                                    "0": "Mountain-400-W Silver, 46",
                                    "1": "419.7784",
                                    "2": "769.49",
                                    "3": "461.694",
                                    "4": "-41.9156"
                                },
                                {
                                    "0": "Mountain-200 Black, 38",
                                    "1": "1251.9813",
                                    "2": "2294.99",
                                    "3": "1376.994",
                                    "4": "-125.0127"
                                },
                                {
                                    "0": "Mountain-200 Black, 42",
                                    "1": "1251.9813",
                                    "2": "2294.99",
                                    "3": "1376.994",
                                    "4": "-125.0127"
                                },
                                {
                                    "0": "Mountain-200 Black, 46",
                                    "1": "1251.9813",
                                    "2": "2294.99",
                                    "3": "1376.994",
                                    "4": "-125.0127"
                                },
                                {
                                    "0": "Mountain-200 Silver, 38",
                                    "1": "1265.6195",
                                    "2": "2319.99",
                                    "3": "1391.994",
                                    "4": "-126.3745"
                                },
                                {
                                    "0": "Mountain-200 Silver, 42",
                                    "1": "1265.6195",
                                    "2": "2319.99",
                                    "3": "1391.994",
                                    "4": "-126.3745"
                                },
                                {
                                    "0": "Mountain-200 Silver, 46",
                                    "1": "1265.6195",
                                    "2": "2319.99",
                                    "3": "1391.994",
                                    "4": "-126.3745"
                                },
                                {
                                    "0": "Mountain-300 Black, 38",
                                    "1": "598.4354",
                                    "2": "1079.99",
                                    "3": "NULL",
                                    "4": "NULL"
                                },
                                {
                                    "0": "Mountain-300 Black, 40",
                                    "1": "598.4354",
                                    "2": "1079.99",
                                    "3": "NULL",
                                    "4": "NULL"
                                },
                                {
                                    "0": "Mountain-300 Black, 44",
                                    "1": "598.4354",
                                    "2": "1079.99",
                                    "3": "NULL",
                                    "4": "NULL"
                                },
                                {
                                    "0": "Mountain-300 Black, 48",
                                    "1": "598.4354",
                                    "2": "1079.99",
                                    "3": "NULL",
                                    "4": "NULL"
                                },
                                {
                                    "0": "Road-250 Red, 44",
                                    "1": "1518.7864",
                                    "2": "2443.35",
                                    "3": "NULL",
                                    "4": "NULL"
                                },
                                {
                                    "0": "Road-250 Red, 48",
                                    "1": "1518.7864",
                                    "2": "2443.35",
                                    "3": "NULL",
                                    "4": "NULL"
                                },
                                {
                                    "0": "Road-250 Red, 52",
                                    "1": "1518.7864",
                                    "2": "2443.35",
                                    "3": "NULL",
                                    "4": "NULL"
                                },
                                {
                                    "0": "Road-150 Red, 62",
                                    "1": "2171.2942",
                                    "2": "3578.27",
                                    "3": "NULL",
                                    "4": "NULL"
                                },
                                {
                                    "0": "Road-150 Red, 44",
                                    "1": "2171.2942",
                                    "2": "3578.27",
                                    "3": "NULL",
                                    "4": "NULL"
                                },
                                {
                                    "0": "Road-150 Red, 48",
                                    "1": "2171.2942",
                                    "2": "3578.27",
                                    "3": "NULL",
                                    "4": "NULL"
                                },
                                {
                                    "0": "Road-150 Red, 52",
                                    "1": "2171.2942",
                                    "2": "3578.27",
                                    "3": "NULL",
                                    "4": "NULL"
                                },
                                {
                                    "0": "Road-150 Red, 56",
                                    "1": "2171.2942",
                                    "2": "3578.27",
                                    "3": "NULL",
                                    "4": "NULL"
                                },
                                {
                                    "0": "Road-450 Red, 58",
                                    "1": "884.7083",
                                    "2": "1457.99",
                                    "3": "NULL",
                                    "4": "NULL"
                                },
                                {
                                    "0": "Road-450 Red, 60",
                                    "1": "884.7083",
                                    "2": "1457.99",
                                    "3": "NULL",
                                    "4": "NULL"
                                },
                                {
                                    "0": "Road-450 Red, 44",
                                    "1": "884.7083",
                                    "2": "1457.99",
                                    "3": "NULL",
                                    "4": "NULL"
                                },
                                {
                                    "0": "Road-450 Red, 48",
                                    "1": "884.7083",
                                    "2": "1457.99",
                                    "3": "NULL",
                                    "4": "NULL"
                                },
                                {
                                    "0": "Road-450 Red, 52",
                                    "1": "884.7083",
                                    "2": "1457.99",
                                    "3": "NULL",
                                    "4": "NULL"
                                },
                                {
                                    "0": "Road-650 Red, 58",
                                    "1": "486.7066",
                                    "2": "782.99",
                                    "3": "NULL",
                                    "4": "NULL"
                                },
                                {
                                    "0": "Road-650 Red, 60",
                                    "1": "486.7066",
                                    "2": "782.99",
                                    "3": "NULL",
                                    "4": "NULL"
                                },
                                {
                                    "0": "Road-650 Red, 62",
                                    "1": "486.7066",
                                    "2": "782.99",
                                    "3": "NULL",
                                    "4": "NULL"
                                },
                                {
                                    "0": "Road-650 Red, 44",
                                    "1": "486.7066",
                                    "2": "782.99",
                                    "3": "NULL",
                                    "4": "NULL"
                                },
                                {
                                    "0": "Road-650 Red, 48",
                                    "1": "486.7066",
                                    "2": "782.99",
                                    "3": "NULL",
                                    "4": "NULL"
                                },
                                {
                                    "0": "Road-650 Red, 52",
                                    "1": "486.7066",
                                    "2": "782.99",
                                    "3": "NULL",
                                    "4": "NULL"
                                },
                                {
                                    "0": "Road-650 Black, 58",
                                    "1": "486.7066",
                                    "2": "782.99",
                                    "3": "NULL",
                                    "4": "NULL"
                                },
                                {
                                    "0": "Road-650 Black, 60",
                                    "1": "486.7066",
                                    "2": "782.99",
                                    "3": "NULL",
                                    "4": "NULL"
                                },
                                {
                                    "0": "Road-650 Black, 62",
                                    "1": "486.7066",
                                    "2": "782.99",
                                    "3": "NULL",
                                    "4": "NULL"
                                },
                                {
                                    "0": "Road-650 Black, 44",
                                    "1": "486.7066",
                                    "2": "782.99",
                                    "3": "NULL",
                                    "4": "NULL"
                                },
                                {
                                    "0": "Road-650 Black, 48",
                                    "1": "486.7066",
                                    "2": "782.99",
                                    "3": "NULL",
                                    "4": "NULL"
                                },
                                {
                                    "0": "Road-650 Black, 52",
                                    "1": "486.7066",
                                    "2": "782.99",
                                    "3": "NULL",
                                    "4": "NULL"
                                },
                                {
                                    "0": "Mountain-100 Silver, 38",
                                    "1": "1912.1544",
                                    "2": "3399.99",
                                    "3": "NULL",
                                    "4": "NULL"
                                },
                                {
                                    "0": "Mountain-100 Silver, 42",
                                    "1": "1912.1544",
                                    "2": "3399.99",
                                    "3": "NULL",
                                    "4": "NULL"
                                },
                                {
                                    "0": "Mountain-100 Silver, 44",
                                    "1": "1912.1544",
                                    "2": "3399.99",
                                    "3": "NULL",
                                    "4": "NULL"
                                },
                                {
                                    "0": "Mountain-100 Silver, 48",
                                    "1": "1912.1544",
                                    "2": "3399.99",
                                    "3": "NULL",
                                    "4": "NULL"
                                },
                                {
                                    "0": "Mountain-100 Black, 38",
                                    "1": "1898.0944",
                                    "2": "3374.99",
                                    "3": "NULL",
                                    "4": "NULL"
                                },
                                {
                                    "0": "Mountain-100 Black, 42",
                                    "1": "1898.0944",
                                    "2": "3374.99",
                                    "3": "NULL",
                                    "4": "NULL"
                                },
                                {
                                    "0": "Mountain-100 Black, 44",
                                    "1": "1898.0944",
                                    "2": "3374.99",
                                    "3": "NULL",
                                    "4": "NULL"
                                },
                                {
                                    "0": "Mountain-100 Black, 48",
                                    "1": "1898.0944",
                                    "2": "3374.99",
                                    "3": "NULL",
                                    "4": "NULL"
                                }
                            ],
                            "schema": {
                                "fields": [
                                    {
                                        "name": "Name"
                                    },
                                    {
                                        "name": "StandardCost"
                                    },
                                    {
                                        "name": "ListPrice"
                                    },
                                    {
                                        "name": "AvgSalesPrice"
                                    },
                                    {
                                        "name": "AvgProfit"
                                    }
                                ]
                            }
                        },
                        "text/html": "<table>\n<tr><th>Name</th><th>StandardCost</th><th>ListPrice</th><th>AvgSalesPrice</th><th>AvgProfit</th></tr>\n<tr><td>Mountain-500 Silver, 40</td><td>308.2179</td><td>564.99</td><td>112.998</td><td>195.2199</td></tr>\n<tr><td>Mountain-500 Silver, 42</td><td>308.2179</td><td>564.99</td><td>112.998</td><td>195.2199</td></tr>\n<tr><td>Mountain-500 Silver, 44</td><td>308.2179</td><td>564.99</td><td>112.998</td><td>195.2199</td></tr>\n<tr><td>Mountain-500 Silver, 48</td><td>308.2179</td><td>564.99</td><td>112.998</td><td>195.2199</td></tr>\n<tr><td>Mountain-500 Silver, 52</td><td>308.2179</td><td>564.99</td><td>112.998</td><td>195.2199</td></tr>\n<tr><td>Road-350-W Yellow, 48</td><td>1082.51</td><td>1700.99</td><td>986.5742</td><td>95.9358</td></tr>\n<tr><td>Road-250 Red, 58</td><td>1554.9479</td><td>2443.35</td><td>1466.01</td><td>88.9379</td></tr>\n<tr><td>Road-250 Black, 44</td><td>1554.9479</td><td>2443.35</td><td>1466.01</td><td>88.9379</td></tr>\n<tr><td>Road-250 Black, 48</td><td>1554.9479</td><td>2443.35</td><td>1466.01</td><td>88.9379</td></tr>\n<tr><td>Road-250 Black, 52</td><td>1554.9479</td><td>2443.35</td><td>1466.01</td><td>88.9379</td></tr>\n<tr><td>Road-250 Black, 58</td><td>1554.9479</td><td>2443.35</td><td>1466.01</td><td>88.9379</td></tr>\n<tr><td>Road-350-W Yellow, 42</td><td>1082.51</td><td>1700.99</td><td>1009.254</td><td>73.256</td></tr>\n<tr><td>Touring-1000 Yellow, 60</td><td>1481.9379</td><td>2384.07</td><td>1418.5216</td><td>63.4163</td></tr>\n<tr><td>Road-350-W Yellow, 44</td><td>1082.51</td><td>1700.99</td><td>1020.594</td><td>61.916</td></tr>\n<tr><td>Road-350-W Yellow, 40</td><td>1082.51</td><td>1700.99</td><td>1020.594</td><td>61.916</td></tr>\n<tr><td>Touring-1000 Yellow, 46</td><td>1481.9379</td><td>2384.07</td><td>1430.442</td><td>51.4959</td></tr>\n<tr><td>Touring-1000 Yellow, 50</td><td>1481.9379</td><td>2384.07</td><td>1430.442</td><td>51.4959</td></tr>\n<tr><td>Touring-1000 Yellow, 54</td><td>1481.9379</td><td>2384.07</td><td>1430.442</td><td>51.4959</td></tr>\n<tr><td>Touring-1000 Blue, 46</td><td>1481.9379</td><td>2384.07</td><td>1430.442</td><td>51.4959</td></tr>\n<tr><td>Touring-1000 Blue, 50</td><td>1481.9379</td><td>2384.07</td><td>1430.442</td><td>51.4959</td></tr>\n<tr><td>Touring-1000 Blue, 54</td><td>1481.9379</td><td>2384.07</td><td>1430.442</td><td>51.4959</td></tr>\n<tr><td>Touring-1000 Blue, 60</td><td>1481.9379</td><td>2384.07</td><td>1430.442</td><td>51.4959</td></tr>\n<tr><td>Road-550-W Yellow, 38</td><td>713.0798</td><td>1120.49</td><td>672.294</td><td>40.7858</td></tr>\n<tr><td>Road-550-W Yellow, 40</td><td>713.0798</td><td>1120.49</td><td>672.294</td><td>40.7858</td></tr>\n<tr><td>Road-550-W Yellow, 42</td><td>713.0798</td><td>1120.49</td><td>672.294</td><td>40.7858</td></tr>\n<tr><td>Road-550-W Yellow, 44</td><td>713.0798</td><td>1120.49</td><td>672.294</td><td>40.7858</td></tr>\n<tr><td>Road-550-W Yellow, 48</td><td>713.0798</td><td>1120.49</td><td>672.294</td><td>40.7858</td></tr>\n<tr><td>Touring-2000 Blue, 60</td><td>755.1508</td><td>1214.85</td><td>728.91</td><td>26.2408</td></tr>\n<tr><td>Touring-2000 Blue, 46</td><td>755.1508</td><td>1214.85</td><td>728.91</td><td>26.2408</td></tr>\n<tr><td>Touring-2000 Blue, 50</td><td>755.1508</td><td>1214.85</td><td>728.91</td><td>26.2408</td></tr>\n<tr><td>Touring-2000 Blue, 54</td><td>755.1508</td><td>1214.85</td><td>728.91</td><td>26.2408</td></tr>\n<tr><td>Touring-3000 Yellow, 62</td><td>461.4448</td><td>742.35</td><td>441.6982</td><td>19.7466</td></tr>\n<tr><td>Road-750 Black, 44</td><td>343.6496</td><td>539.99</td><td>323.994</td><td>19.6556</td></tr>\n<tr><td>Road-750 Black, 48</td><td>343.6496</td><td>539.99</td><td>323.994</td><td>19.6556</td></tr>\n<tr><td>Road-750 Black, 52</td><td>343.6496</td><td>539.99</td><td>323.994</td><td>19.6556</td></tr>\n<tr><td>Road-750 Black, 58</td><td>343.6496</td><td>539.99</td><td>323.994</td><td>19.6556</td></tr>\n<tr><td>Touring-3000 Blue, 44</td><td>461.4448</td><td>742.35</td><td>445.41</td><td>16.0348</td></tr>\n<tr><td>Touring-3000 Blue, 50</td><td>461.4448</td><td>742.35</td><td>445.41</td><td>16.0348</td></tr>\n<tr><td>Touring-3000 Blue, 54</td><td>461.4448</td><td>742.35</td><td>445.41</td><td>16.0348</td></tr>\n<tr><td>Touring-3000 Blue, 58</td><td>461.4448</td><td>742.35</td><td>445.41</td><td>16.0348</td></tr>\n<tr><td>Touring-3000 Blue, 62</td><td>461.4448</td><td>742.35</td><td>445.41</td><td>16.0348</td></tr>\n<tr><td>Touring-3000 Yellow, 44</td><td>461.4448</td><td>742.35</td><td>445.41</td><td>16.0348</td></tr>\n<tr><td>Touring-3000 Yellow, 50</td><td>461.4448</td><td>742.35</td><td>445.41</td><td>16.0348</td></tr>\n<tr><td>Touring-3000 Yellow, 54</td><td>461.4448</td><td>742.35</td><td>445.41</td><td>16.0348</td></tr>\n<tr><td>Touring-3000 Yellow, 58</td><td>461.4448</td><td>742.35</td><td>445.41</td><td>16.0348</td></tr>\n<tr><td>Mountain-500 Black, 40</td><td>294.5797</td><td>539.99</td><td>323.994</td><td>-29.4143</td></tr>\n<tr><td>Mountain-500 Black, 42</td><td>294.5797</td><td>539.99</td><td>323.994</td><td>-29.4143</td></tr>\n<tr><td>Mountain-500 Black, 44</td><td>294.5797</td><td>539.99</td><td>323.994</td><td>-29.4143</td></tr>\n<tr><td>Mountain-500 Black, 48</td><td>294.5797</td><td>539.99</td><td>323.994</td><td>-29.4143</td></tr>\n<tr><td>Mountain-500 Black, 52</td><td>294.5797</td><td>539.99</td><td>323.994</td><td>-29.4143</td></tr>\n<tr><td>Mountain-400-W Silver, 38</td><td>419.7784</td><td>769.49</td><td>461.694</td><td>-41.9156</td></tr>\n<tr><td>Mountain-400-W Silver, 40</td><td>419.7784</td><td>769.49</td><td>461.694</td><td>-41.9156</td></tr>\n<tr><td>Mountain-400-W Silver, 42</td><td>419.7784</td><td>769.49</td><td>461.694</td><td>-41.9156</td></tr>\n<tr><td>Mountain-400-W Silver, 46</td><td>419.7784</td><td>769.49</td><td>461.694</td><td>-41.9156</td></tr>\n<tr><td>Mountain-200 Black, 38</td><td>1251.9813</td><td>2294.99</td><td>1376.994</td><td>-125.0127</td></tr>\n<tr><td>Mountain-200 Black, 42</td><td>1251.9813</td><td>2294.99</td><td>1376.994</td><td>-125.0127</td></tr>\n<tr><td>Mountain-200 Black, 46</td><td>1251.9813</td><td>2294.99</td><td>1376.994</td><td>-125.0127</td></tr>\n<tr><td>Mountain-200 Silver, 38</td><td>1265.6195</td><td>2319.99</td><td>1391.994</td><td>-126.3745</td></tr>\n<tr><td>Mountain-200 Silver, 42</td><td>1265.6195</td><td>2319.99</td><td>1391.994</td><td>-126.3745</td></tr>\n<tr><td>Mountain-200 Silver, 46</td><td>1265.6195</td><td>2319.99</td><td>1391.994</td><td>-126.3745</td></tr>\n<tr><td>Mountain-300 Black, 38</td><td>598.4354</td><td>1079.99</td><td>NULL</td><td>NULL</td></tr>\n<tr><td>Mountain-300 Black, 40</td><td>598.4354</td><td>1079.99</td><td>NULL</td><td>NULL</td></tr>\n<tr><td>Mountain-300 Black, 44</td><td>598.4354</td><td>1079.99</td><td>NULL</td><td>NULL</td></tr>\n<tr><td>Mountain-300 Black, 48</td><td>598.4354</td><td>1079.99</td><td>NULL</td><td>NULL</td></tr>\n<tr><td>Road-250 Red, 44</td><td>1518.7864</td><td>2443.35</td><td>NULL</td><td>NULL</td></tr>\n<tr><td>Road-250 Red, 48</td><td>1518.7864</td><td>2443.35</td><td>NULL</td><td>NULL</td></tr>\n<tr><td>Road-250 Red, 52</td><td>1518.7864</td><td>2443.35</td><td>NULL</td><td>NULL</td></tr>\n<tr><td>Road-150 Red, 62</td><td>2171.2942</td><td>3578.27</td><td>NULL</td><td>NULL</td></tr>\n<tr><td>Road-150 Red, 44</td><td>2171.2942</td><td>3578.27</td><td>NULL</td><td>NULL</td></tr>\n<tr><td>Road-150 Red, 48</td><td>2171.2942</td><td>3578.27</td><td>NULL</td><td>NULL</td></tr>\n<tr><td>Road-150 Red, 52</td><td>2171.2942</td><td>3578.27</td><td>NULL</td><td>NULL</td></tr>\n<tr><td>Road-150 Red, 56</td><td>2171.2942</td><td>3578.27</td><td>NULL</td><td>NULL</td></tr>\n<tr><td>Road-450 Red, 58</td><td>884.7083</td><td>1457.99</td><td>NULL</td><td>NULL</td></tr>\n<tr><td>Road-450 Red, 60</td><td>884.7083</td><td>1457.99</td><td>NULL</td><td>NULL</td></tr>\n<tr><td>Road-450 Red, 44</td><td>884.7083</td><td>1457.99</td><td>NULL</td><td>NULL</td></tr>\n<tr><td>Road-450 Red, 48</td><td>884.7083</td><td>1457.99</td><td>NULL</td><td>NULL</td></tr>\n<tr><td>Road-450 Red, 52</td><td>884.7083</td><td>1457.99</td><td>NULL</td><td>NULL</td></tr>\n<tr><td>Road-650 Red, 58</td><td>486.7066</td><td>782.99</td><td>NULL</td><td>NULL</td></tr>\n<tr><td>Road-650 Red, 60</td><td>486.7066</td><td>782.99</td><td>NULL</td><td>NULL</td></tr>\n<tr><td>Road-650 Red, 62</td><td>486.7066</td><td>782.99</td><td>NULL</td><td>NULL</td></tr>\n<tr><td>Road-650 Red, 44</td><td>486.7066</td><td>782.99</td><td>NULL</td><td>NULL</td></tr>\n<tr><td>Road-650 Red, 48</td><td>486.7066</td><td>782.99</td><td>NULL</td><td>NULL</td></tr>\n<tr><td>Road-650 Red, 52</td><td>486.7066</td><td>782.99</td><td>NULL</td><td>NULL</td></tr>\n<tr><td>Road-650 Black, 58</td><td>486.7066</td><td>782.99</td><td>NULL</td><td>NULL</td></tr>\n<tr><td>Road-650 Black, 60</td><td>486.7066</td><td>782.99</td><td>NULL</td><td>NULL</td></tr>\n<tr><td>Road-650 Black, 62</td><td>486.7066</td><td>782.99</td><td>NULL</td><td>NULL</td></tr>\n<tr><td>Road-650 Black, 44</td><td>486.7066</td><td>782.99</td><td>NULL</td><td>NULL</td></tr>\n<tr><td>Road-650 Black, 48</td><td>486.7066</td><td>782.99</td><td>NULL</td><td>NULL</td></tr>\n<tr><td>Road-650 Black, 52</td><td>486.7066</td><td>782.99</td><td>NULL</td><td>NULL</td></tr>\n<tr><td>Mountain-100 Silver, 38</td><td>1912.1544</td><td>3399.99</td><td>NULL</td><td>NULL</td></tr>\n<tr><td>Mountain-100 Silver, 42</td><td>1912.1544</td><td>3399.99</td><td>NULL</td><td>NULL</td></tr>\n<tr><td>Mountain-100 Silver, 44</td><td>1912.1544</td><td>3399.99</td><td>NULL</td><td>NULL</td></tr>\n<tr><td>Mountain-100 Silver, 48</td><td>1912.1544</td><td>3399.99</td><td>NULL</td><td>NULL</td></tr>\n<tr><td>Mountain-100 Black, 38</td><td>1898.0944</td><td>3374.99</td><td>NULL</td><td>NULL</td></tr>\n<tr><td>Mountain-100 Black, 42</td><td>1898.0944</td><td>3374.99</td><td>NULL</td><td>NULL</td></tr>\n<tr><td>Mountain-100 Black, 44</td><td>1898.0944</td><td>3374.99</td><td>NULL</td><td>NULL</td></tr>\n<tr><td>Mountain-100 Black, 48</td><td>1898.0944</td><td>3374.99</td><td>NULL</td><td>NULL</td></tr>\n</table>"
                    },
                    "metadata": {}
                }
            ],
            "execution_count": 3
        },
        {
            "cell_type": "markdown",
            "source": [
                "The highest average profits for each category were:\n",
                "\n",
                "- Mountain-500\n",
                "- Road-350\n",
                "- Touring-1000\n",
                "\n",
                "Observe that there were a number of bikes that earned negative profit. From the previous query, the Mountain-200 had the highest units sold for its type; however it sold, on average, at a loss (i.e., negative profit). Therefore, we may want to consider keeping this bike off the list."
            ],
            "metadata": {
                "azdata_cell_guid": "6a1b84cb-fd5e-4c15-a530-7326fdc4773f"
            },
            "attachments": {}
        }
    ]
}